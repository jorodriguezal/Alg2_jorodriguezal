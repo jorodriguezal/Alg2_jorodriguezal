{
  "nbformat": 4,
  "nbformat_minor": 0,
  "metadata": {
    "colab": {
      "name": "Caesars Cipher.ipynb",
      "provenance": [],
      "authorship_tag": "ABX9TyMGarx/ZMSYO217Xb9a2vYY",
      "include_colab_link": true
    },
    "kernelspec": {
      "name": "python3",
      "display_name": "Python 3"
    },
    "language_info": {
      "name": "python"
    }
  },
  "cells": [
    {
      "cell_type": "markdown",
      "metadata": {
        "id": "view-in-github",
        "colab_type": "text"
      },
      "source": [
        "<a href=\"https://colab.research.google.com/github/jorodriguezal/Alg2_jorodriguezal/blob/main/Caesars_Cipher.ipynb\" target=\"_parent\"><img src=\"https://colab.research.google.com/assets/colab-badge.svg\" alt=\"Open In Colab\"/></a>"
      ]
    },
    {
      "cell_type": "code",
      "execution_count": 2,
      "metadata": {
        "colab": {
          "base_uri": "https://localhost:8080/"
        },
        "id": "7xmQOOI-gBMf",
        "outputId": "a4b13ec9-6e96-407c-83f2-d139906f46a9"
      },
      "outputs": [
        {
          "name": "stdout",
          "output_type": "stream",
          "text": [
            "Select an option: \n",
            " Type 1 to Encrypt \n",
            " Type 2 to Decrypt \n",
            " Type other to finish. \n",
            " \n",
            "1\n",
            "Enter your message: I love my perfectly gorgeous girlfriend Alejandra\n",
            "Enter your k parmeter (permutations): 2104\n",
            "The result is: GJMTC KWNCP DCARJ WEMPE CMSQE GPJDP GCLBY JCHYL BPY\n",
            "\n",
            "Select an option: \n",
            " Type 1 to Encrypt \n",
            " Type 2 to Decrypt \n",
            " Type other to finish. \n",
            " \n",
            "2\n",
            "Enter your message: GJMTC KWNCP DCARJ WEMPE CMSQE GPJDP GCLBY JCHYL BPY\n",
            "Enter your k parmeter (permutations): 2104\n",
            "The result is: ILOVE MYPER FECTL YGORG EOUSG IRLFR IENDA LEJAN DRA\n",
            "\n",
            "Select an option: \n",
            " Type 1 to Encrypt \n",
            " Type 2 to Decrypt \n",
            " Type other to finish. \n",
            " \n",
            "xdxd\n"
          ]
        }
      ],
      "source": [
        "alphabet: str = 'ABCDEFGHIJKLMNOPQRSTUVWXYZ'\n",
        "abc = [x for x in alphabet]\n",
        "\n",
        "def encrypt(msg: str, k: int):\n",
        "    msg = msg.upper()\n",
        "    msg = msg.replace(\" \", \"\")\n",
        "    decrypted = []\n",
        "    for i in range(len(msg)):\n",
        "        decrypted.append(abc[((abc.index(msg[i]) + k)%26)])\n",
        "    return organizeFinalText(decrypted)\n",
        "\n",
        "def decrypt(msg: str, k: int):\n",
        "    msg = msg.upper()\n",
        "    msg = msg.replace(\" \", \"\")\n",
        "    decrypted = []\n",
        "    for i in range(len(msg)):\n",
        "        decrypted.append(abc[ (abc.index(msg[i]) - k)%26])\n",
        "    return organizeFinalText(decrypted)\n",
        "\n",
        "def organizeFinalText(msg: list):\n",
        "    string = ''\n",
        "    for i in range(len(msg)):\n",
        "        string += msg[i]\n",
        "        if (i + 1)%5 == 0:\n",
        "             string += \" \"\n",
        "    return string\n",
        "\n",
        "def main():\n",
        "    while True:\n",
        "        mode: str = input('Select an option: \\n Type 1 to Encrypt \\n Type 2 to Decrypt \\n Type other to finish. \\n \\n')\n",
        "\n",
        "        if mode not in ('1', '2'):\n",
        "            break\n",
        "            x\n",
        "        msg: str = input('Enter your message: ').upper()\n",
        "        k: int = int(input('Enter your k parmeter (permutations): '))\n",
        "        if mode == '1':\n",
        "            result: str = encrypt(msg, k)\n",
        "        elif mode == '2':\n",
        "            result: str = decrypt(msg, k)\n",
        "\n",
        "        print('The result is: ' + result + '\\n')\n",
        "\n",
        "main()\n",
        "\n",
        "\n",
        "\n",
        "\n"
      ]
    }
  ]
}