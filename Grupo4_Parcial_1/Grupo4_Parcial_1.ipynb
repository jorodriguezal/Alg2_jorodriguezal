{
  "nbformat": 4,
  "nbformat_minor": 0,
  "metadata": {
    "colab": {
      "name": "Grupo4_Parcial_1.ipynb",
      "provenance": [],
      "collapsed_sections": []
    },
    "kernelspec": {
      "name": "python3",
      "display_name": "Python 3"
    },
    "language_info": {
      "name": "python"
    }
  },
  "cells": [
    {
      "cell_type": "code",
      "metadata": {
        "colab": {
          "base_uri": "https://localhost:8080/"
        },
        "id": "rPPTrFiH_9K4",
        "outputId": "36586ed6-b220-45cf-bff4-b575b5bc7aaf"
      },
      "source": [
        "#Algoritmo que calcule el número de la serie Fibonacci: Debe restringir el tamaño máximo aceptado n <= 100. Puede implementar recursividad o iteración.\n",
        "import time\n",
        "def calc_fib(n):\n",
        "\n",
        "    res1, res2  = 1, 1 #Se definen los primeros dos elementos de la serie\n",
        "\n",
        "    if n <= 0: #Si se ingresa 0 o menos, se devuelve 0\n",
        "        return 0\n",
        "    elif n>100: #si es mayor a 100, se devuelve mensaje validando\n",
        "        return \"Por favor, ingrese un número menor a 100\"\n",
        "    else:\n",
        "        for i in range(2, n): #se inicia desde 2 ya que se inicializa el array con los dos primeros elementos\n",
        "            res2, res1 = res1 + res2, res2 #Se suma el último y penúltimo elemento y se añade el resultado al final\n",
        "        return res2\n",
        "\n",
        "n = int(input(\"Por favor, ingrese n-ésimo número de Fibonacci a consultar, no mayor que 100: \"))\n",
        "time_inicial = time.time()\n",
        "print(calc_fib(n))\n",
        "print(\"Tiempo de duración: \",time.time()-time_inicial,\"s\")\n"
      ],
      "execution_count": 27,
      "outputs": [
        {
          "output_type": "stream",
          "name": "stdout",
          "text": [
            "Por favor, ingrese n-ésimo número de Fibonacci a consultar, no mayor que 100: 10\n",
            "55\n",
            "Tiempo de duración:  0.0008361339569091797 s\n"
          ]
        }
      ]
    },
    {
      "cell_type": "code",
      "metadata": {
        "colab": {
          "base_uri": "https://localhost:8080/"
        },
        "id": "9yuJx_hZDtKi",
        "outputId": "78865392-81f6-4e8a-c369-28d0f8c7e45f"
      },
      "source": [
        "#Pruebas de restricciones y corner cases:\n",
        "print(calc_fib(10000))\n",
        "print(calc_fib(101))\n",
        "print(calc_fib(100))\n",
        "print(calc_fib(0))\n",
        "print(calc_fib(-3))\n",
        "print(calc_fib(1))\n",
        "print(calc_fib(2))\n",
        "print(calc_fib(3))"
      ],
      "execution_count": 28,
      "outputs": [
        {
          "output_type": "stream",
          "name": "stdout",
          "text": [
            "Por favor, ingrese un número menor a 100\n",
            "Por favor, ingrese un número menor a 100\n",
            "354224848179261915075\n",
            "0\n",
            "0\n",
            "1\n",
            "1\n",
            "2\n"
          ]
        }
      ]
    },
    {
      "cell_type": "code",
      "metadata": {
        "colab": {
          "base_uri": "https://localhost:8080/"
        },
        "id": "-vy0frBWIDcN",
        "outputId": "7db8b3cf-6234-4d16-a9bc-a4b7623815ca"
      },
      "source": [
        "import time\n",
        "# Algoritmo que calcule la multiplicación de dos números enteros implementando el método “La russe”\n",
        "# No debe aceptar números enteros de tamaño mayor a 5.\n",
        "# No debe aceptar números negativos.\n",
        "\n",
        "\n",
        "# Se llama la función para ejecutar la multiplicación con el método \"la russe\"\n",
        "def la_russe(n,m):\n",
        "    resp = 0  # Se inicia la variable respuesta con 0. Esta variable será la que se va a retornar\n",
        "\n",
        "    if (n < 0 or n > 5) or  (m < 0 or m > 5): #Se verifica si los números están dentro de los límites del ejercicio\n",
        "        return \"Por favor, ingrese números entre 0 y 5\"   # En caso de no estarlo se retorna la respuesta\n",
        "\n",
        "    while (m>0):  # Se inicia un bucle que verifique si el segundo número entregado es mayor que cero, sino se cumple se rompe el bucle\n",
        "\n",
        "        if m%2 != 0: #Si el segundo número es impar, se suma el valor actual del primer número a la respuesta\n",
        "            resp += n\n",
        "\n",
        "        n = 2*n  #Se duplica el primer número\n",
        "        m = m//2 #Se divide en dos el segundo número\n",
        "    return resp\n",
        "\n",
        "if __name__ == \"__main__\": \n",
        "    # Se ingresa el input\n",
        "    n = int(input(\"Ingrese el primer número a multiplicar: \"))\n",
        "    m = int(input(\"Ingrese el segundo número a multiplicar: \"))\n",
        "    #Se llama a la función con el tiempo\n",
        "    time_inicial = time.time()\n",
        "    print(la_russe(n,m))\n",
        "    print(\"Tiempo de duración: \",time.time()-time_inicial,\"s\")"
      ],
      "execution_count": 43,
      "outputs": [
        {
          "output_type": "stream",
          "name": "stdout",
          "text": [
            "Ingrese el primer número a multiplicar: 2\n",
            "Ingrese el segundo número a multiplicar: 4\n",
            "8\n",
            "Tiempo de duración:  0.0001232624053955078 s\n"
          ]
        }
      ]
    }
  ]
}