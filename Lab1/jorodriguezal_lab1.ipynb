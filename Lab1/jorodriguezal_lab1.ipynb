{
  "nbformat": 4,
  "nbformat_minor": 0,
  "metadata": {
    "colab": {
      "name": "jorodriguezal_lab1.ipynb",
      "provenance": [],
      "collapsed_sections": []
    },
    "kernelspec": {
      "display_name": "Python 3",
      "language": "python",
      "name": "python3"
    },
    "language_info": {
      "codemirror_mode": {
        "name": "ipython",
        "version": 3
      },
      "file_extension": ".py",
      "mimetype": "text/x-python",
      "name": "python",
      "nbconvert_exporter": "python",
      "pygments_lexer": "ipython3",
      "version": "3.6.4"
    }
  },
  "cells": [
    {
      "cell_type": "markdown",
      "metadata": {
        "id": "eQzBbvyKQymx"
      },
      "source": [
        "<div align=\"center\">\n",
        "<img style=\"display: block; margin: auto;\" alt=\"photo\" src=\"https://cdn.quantconnect.com/web/i/icon.png\">\n",
        "\n",
        "Quantconnect\n",
        "\n",
        "Introduction to Financial Python\n",
        "</div>\n",
        "\n",
        "# 01 Data Types and Data Structures\n",
        "\n",
        "# Introduction\n",
        "\n",
        "This tutorial provides a basic introduction to the Python programming language. If you are new to Python, you should run the code snippets while reading this tutorial. If you are an advanced Python user, please feel free to skip this chapter.\n",
        "\n",
        "# Basic Variable Types\n",
        "The basic types of variables in Python are: strings, integers, floating point numbers and booleans.\n",
        "\n",
        "Strings in python are identified as a contiguous set of characters represented in either single quotes (' ') or double quotes (\" \").\n"
      ]
    },
    {
      "cell_type": "code",
      "metadata": {
        "colab": {
          "base_uri": "https://localhost:8080/"
        },
        "id": "N5t-UrcfOqid",
        "outputId": "87814ee5-0a3f-442b-87f5-a79303d8a3d7"
      },
      "source": [
        "my_string1 = 'Welcome to' #There are declared two variables, each one with a string assigned\n",
        "my_string2 = \"My Personal Notebook\"\n",
        "print(my_string1 + ' ' + my_string2)#It is used the python's print function to display both strings concatenated and separated with a blank space"
      ],
      "execution_count": null,
      "outputs": [
        {
          "output_type": "stream",
          "name": "stdout",
          "text": [
            "Welcome to My Personal Notebook\n"
          ]
        }
      ]
    },
    {
      "cell_type": "markdown",
      "metadata": {
        "id": "bXHnxZyHSd1M"
      },
      "source": [
        "An integer is a round number with no values after the decimal point."
      ]
    },
    {
      "cell_type": "code",
      "metadata": {
        "colab": {
          "base_uri": "https://localhost:8080/"
        },
        "id": "pNjuz3toOqif",
        "outputId": "97a94672-1518-4d23-864f-ff5e75a42143"
      },
      "source": [
        "my_int = 66 #Defines an integer\n",
        "print(my_int) #Prints that integer\n",
        "print(type(my_int)) #Prints the data type of the variable, in this case, an integer ('int')"
      ],
      "execution_count": null,
      "outputs": [
        {
          "output_type": "stream",
          "name": "stdout",
          "text": [
            "66\n",
            "<class 'int'>\n"
          ]
        }
      ]
    },
    {
      "cell_type": "markdown",
      "metadata": {
        "id": "_1ZanWrYSnzF"
      },
      "source": [
        "The built-in function int() can convert a string into an integer."
      ]
    },
    {
      "cell_type": "code",
      "metadata": {
        "colab": {
          "base_uri": "https://localhost:8080/"
        },
        "id": "zPwGb20FOqif",
        "outputId": "7f09edf2-e36f-4780-bb4d-c7330a80a182"
      },
      "source": [
        "my_string = \"563\" #Defines a string with numeric characters\n",
        "print(type(my_string)) #Prints the data type (str = string)\n",
        "my_int = int(my_string) #Uses the int() function to convert that string in integer\n",
        "print(type(my_int))#Prints the data type (int = integer)"
      ],
      "execution_count": null,
      "outputs": [
        {
          "output_type": "stream",
          "name": "stdout",
          "text": [
            "<class 'str'>\n",
            "<class 'int'>\n"
          ]
        }
      ]
    },
    {
      "cell_type": "markdown",
      "metadata": {
        "id": "WqMDPDTHSrE9"
      },
      "source": [
        "A floating point number, or a float, is a real number in mathematics. In Python we need to include a value after a decimal point to define it as a float"
      ]
    },
    {
      "cell_type": "code",
      "metadata": {
        "colab": {
          "base_uri": "https://localhost:8080/"
        },
        "id": "otCzKKW9Oqig",
        "outputId": "04914fe4-ff3d-4fcc-bd32-ffc746304448"
      },
      "source": [
        "my_string = \"100.663\"\n",
        "my_float = float(my_string)#Function that converts another data type to float (with decimal point)\n",
        "print(type(my_float))\n",
        "print(my_float)"
      ],
      "execution_count": null,
      "outputs": [
        {
          "output_type": "stream",
          "name": "stdout",
          "text": [
            "<class 'float'>\n",
            "100.663\n"
          ]
        }
      ]
    },
    {
      "cell_type": "markdown",
      "metadata": {
        "id": "2iuyv8Q7StTJ"
      },
      "source": [
        "As you can see above, if we don't include a decimal value, the variable would be defined as an integer. The built-in function float() can convert a string or an integer into a float."
      ]
    },
    {
      "cell_type": "code",
      "metadata": {
        "colab": {
          "base_uri": "https://localhost:8080/"
        },
        "id": "wwLw5VthOqig",
        "outputId": "bbc95363-1198-4699-a750-4a97c6caf40a"
      },
      "source": [
        "my_bool = False #Boolean variable is defined\n",
        "print(my_bool)#Prints value\n",
        "print(type(my_bool)#Prints data type"
      ],
      "execution_count": null,
      "outputs": [
        {
          "output_type": "stream",
          "name": "stdout",
          "text": [
            "False\n",
            "<class 'bool'>\n"
          ]
        }
      ]
    },
    {
      "cell_type": "markdown",
      "metadata": {
        "id": "bnGMwH21Szr_"
      },
      "source": [
        "A boolean, or bool, is a binary variable. Its value can only be True or False. It is useful when we do some logic operations, which would be covered in our next chapter."
      ]
    },
    {
      "cell_type": "code",
      "metadata": {
        "colab": {
          "base_uri": "https://localhost:8080/"
        },
        "id": "DMa6pDl5Oqig",
        "outputId": "7f0a2a1b-de6a-4d5b-ada6-84f159cd0f5d"
      },
      "source": [
        "print(\"Addition \", 1+5) #prints  a concatenation of the first argument and the second one, which uses the addition operator \n",
        "print(\"Subtraction \", 5-2)#prints  a concatenation of the first argument and the second one, which uses the substraction operator \n",
        "print(\"Multiplication \", 2*3)#prints  a concatenation of the first argument and the second one, which uses the multiplication operator \n",
        "print(\"Division \", 10/2)#prints  a concatenation of the first argument and the second one, which uses the division operator \n",
        "print('Exponent', 2**3)#prints  a concatenation of the first argument and the second one, which uses the exponencial operator "
      ],
      "execution_count": null,
      "outputs": [
        {
          "output_type": "stream",
          "name": "stdout",
          "text": [
            "Addition  6\n",
            "Subtraction  3\n",
            "Multiplication  6\n",
            "Division  5.0\n",
            "Exponent 8\n"
          ]
        }
      ]
    },
    {
      "cell_type": "markdown",
      "metadata": {
        "id": "1Xc9G9_sS2ju"
      },
      "source": [
        "# Basic Math Operations\n",
        "\n",
        "The basic math operators in python are demonstrated below:"
      ]
    },
    {
      "cell_type": "code",
      "metadata": {
        "colab": {
          "base_uri": "https://localhost:8080/"
        },
        "id": "KE9gUryAOqig",
        "outputId": "3811fa49-f25c-4841-cb21-e6faf63a0221"
      },
      "source": [
        "print(1/6) #Prints an int/int\n",
        "print(1.0/6.0) #Prints float/int"
      ],
      "execution_count": null,
      "outputs": [
        {
          "output_type": "stream",
          "name": "stdout",
          "text": [
            "0.16666666666666666\n",
            "0.16666666666666666\n"
          ]
        }
      ]
    },
    {
      "cell_type": "markdown",
      "metadata": {
        "id": "AN5Oa3DoS_Nf"
      },
      "source": [
        "# Data Collections\n",
        "\n",
        "## List\n",
        "A list is an ordered collection of values. A list is mutable, which means you can change a list's value without changing the list itself. Creating a list is simply putting different comma-separated values between square brackets."
      ]
    },
    {
      "cell_type": "code",
      "metadata": {
        "colab": {
          "base_uri": "https://localhost:8080/"
        },
        "id": "-tQdNqCvOqig",
        "outputId": "3697322e-7a30-4ccb-f275-38ffea7010eb"
      },
      "source": [
        "my_list = ['One', 'Two', 3, 4, 5] #Declares a list, where can be saved different data types\n",
        "print(my_list) #Prints the list"
      ],
      "execution_count": null,
      "outputs": [
        {
          "output_type": "stream",
          "name": "stdout",
          "text": [
            "['One', 'Two', 3, 4, 5]\n"
          ]
        }
      ]
    },
    {
      "cell_type": "markdown",
      "metadata": {
        "id": "1O0TsgZCTHrM"
      },
      "source": [
        "The values in a list are called \"elements\". We can access list elements by indexing. Python index starts from 0. So if you have a list of length n, the index of the first element will be 0, and that of the last element will be n − 1. By the way, the length of a list can be obtained by the built-in function len()."
      ]
    },
    {
      "cell_type": "code",
      "metadata": {
        "colab": {
          "base_uri": "https://localhost:8080/"
        },
        "id": "QhuVhRR5Oqih",
        "outputId": "de66a58a-4c2b-46ff-928e-41f339f939ef"
      },
      "source": [
        "my_list = ['One', 'Two', 3, 4, 5]\n",
        "print(len(my_list)) #Prints the list lenght\n",
        "print(my_list[3]) #Prints the first element in the list\n",
        "print(my_list[len(my_list) -1])#Prints the last element in the list"
      ],
      "execution_count": null,
      "outputs": [
        {
          "output_type": "stream",
          "name": "stdout",
          "text": [
            "5\n",
            "4\n",
            "5\n"
          ]
        }
      ]
    },
    {
      "cell_type": "markdown",
      "metadata": {
        "id": "jgSZy1VGTKSc"
      },
      "source": [
        "You can also change the elements in the list by accessing an index and assigning a new value."
      ]
    },
    {
      "cell_type": "code",
      "metadata": {
        "colab": {
          "base_uri": "https://localhost:8080/"
        },
        "id": "NQBNLjAvOqih",
        "outputId": "5e4e076f-649f-480d-a6cf-e4557d07f483"
      },
      "source": [
        "my_list = ['One', 'Two', 3, 4, 5]\n",
        "my_list[2] = 'Three' #Changes a value in list accessing by its index \n",
        "print(my_list)"
      ],
      "execution_count": null,
      "outputs": [
        {
          "output_type": "stream",
          "name": "stdout",
          "text": [
            "['One', 'Two', 'Three', 4, 5]\n"
          ]
        }
      ]
    },
    {
      "cell_type": "markdown",
      "metadata": {
        "id": "EQPs5ojoTVrk"
      },
      "source": [
        "A list can also be sliced with a colon:"
      ]
    },
    {
      "cell_type": "code",
      "metadata": {
        "colab": {
          "base_uri": "https://localhost:8080/"
        },
        "id": "keNX2RbtOqii",
        "outputId": "6bbc1e27-b40a-4cd4-d019-25b6369552b5"
      },
      "source": [
        "my_list = ['One', 'Two', 3, 4, 5]\n",
        "print(my_list[1:4]) #Prints the specified range of elements (second to fourth)"
      ],
      "execution_count": null,
      "outputs": [
        {
          "output_type": "stream",
          "name": "stdout",
          "text": [
            "['Two', 3, 4]\n"
          ]
        }
      ]
    },
    {
      "cell_type": "markdown",
      "metadata": {
        "id": "AZqQd0K8TYul"
      },
      "source": [
        "The slice starts from the first element indicated, but excludes the last element indicated. Here we select all elements starting from index 1, which refers to the second element:"
      ]
    },
    {
      "cell_type": "code",
      "metadata": {
        "colab": {
          "base_uri": "https://localhost:8080/"
        },
        "id": "0-76sLfkOqii",
        "outputId": "aeffe082-4cb9-4603-f04b-21fac3aff00c"
      },
      "source": [
        "print(my_list[1:])#Prints second to last element, excluding first"
      ],
      "execution_count": null,
      "outputs": [
        {
          "output_type": "stream",
          "name": "stdout",
          "text": [
            "['Connect', 1, 2, 3]\n"
          ]
        }
      ]
    },
    {
      "cell_type": "markdown",
      "metadata": {
        "id": "XBqvhUdZVKWs"
      },
      "source": [
        "And all elements up to but excluding index 3:"
      ]
    },
    {
      "cell_type": "code",
      "metadata": {
        "colab": {
          "base_uri": "https://localhost:8080/"
        },
        "id": "5NWr75L9Oqii",
        "outputId": "b48be4c4-9a2b-4cee-884e-60ba27453ba1"
      },
      "source": [
        "print(my_list[:2]) #Prints list excluding the third element"
      ],
      "execution_count": null,
      "outputs": [
        {
          "output_type": "stream",
          "name": "stdout",
          "text": [
            "['One', 'Two']\n"
          ]
        }
      ]
    },
    {
      "cell_type": "markdown",
      "metadata": {
        "id": "eAFmM6bkTZz9"
      },
      "source": [
        "If you wish to add or remove an element from a list, you can use the append() and remove() methods for lists as follows:"
      ]
    },
    {
      "cell_type": "code",
      "metadata": {
        "colab": {
          "base_uri": "https://localhost:8080/"
        },
        "id": "pHmgTPElTo19",
        "outputId": "133c88e8-c185-4401-fb94-d1cbccae50fa"
      },
      "source": [
        "my_list = ['Hello', 'My']\n",
        "my_list.append('Friend')#Adds an element at the end of the list without erasing the existent one\n",
        "print(my_list)\n",
        "\n"
      ],
      "execution_count": null,
      "outputs": [
        {
          "output_type": "stream",
          "name": "stdout",
          "text": [
            "['Hello', 'My', 'Friend']\n"
          ]
        }
      ]
    },
    {
      "cell_type": "code",
      "metadata": {
        "colab": {
          "base_uri": "https://localhost:8080/"
        },
        "id": "4C4U1Yf0Tr8l",
        "outputId": "c48d866a-be6c-4528-bc44-6d0dcfb1be2f"
      },
      "source": [
        "my_list.remove('My')#Removes first element that matches with the given parameter\n",
        "print(my_list)"
      ],
      "execution_count": null,
      "outputs": [
        {
          "output_type": "stream",
          "name": "stdout",
          "text": [
            "['Hello', 'Friend']\n"
          ]
        }
      ]
    },
    {
      "cell_type": "markdown",
      "metadata": {
        "id": "11W1gG-cVmOU"
      },
      "source": [
        "When there are repeated instances of \"Hello\", the first one is removed.\n",
        "\n",
        "## Tuple\n",
        "A tuple is a data structure type similar to a list. The difference is that a tuple is immutable, which means you can't change the elements in it once it's defined. We create a tuple by putting comma-separated values between parentheses."
      ]
    },
    {
      "cell_type": "code",
      "metadata": {
        "collapsed": true,
        "id": "vPmn6BAaOqii"
      },
      "source": [
        "my_tuple = ('Hello','My','Friend')#Creates a tuple "
      ],
      "execution_count": null,
      "outputs": []
    },
    {
      "cell_type": "markdown",
      "metadata": {
        "id": "zMIme4dDV0Wz"
      },
      "source": [
        "Just like a list, a tuple can be sliced by using index."
      ]
    },
    {
      "cell_type": "code",
      "metadata": {
        "colab": {
          "base_uri": "https://localhost:8080/"
        },
        "id": "8P-ddO0sOqii",
        "outputId": "fc860c71-8eac-4392-8357-d04089f35551"
      },
      "source": [
        "my_tuple = ('Hello','My','Friend')\n",
        "print(my_tuple[1:])#Same as with lists, tuples can be sliced and shown only from the second index's element"
      ],
      "execution_count": null,
      "outputs": [
        {
          "output_type": "stream",
          "name": "stdout",
          "text": [
            "('My', 'Friend')\n"
          ]
        }
      ]
    },
    {
      "cell_type": "markdown",
      "metadata": {
        "id": "l2JqbusAV1Y2"
      },
      "source": [
        "## Set\n",
        "A set is an **unordered**  collection with **no duplicate** elements. The built-in function **set()** can be used to create sets."
      ]
    },
    {
      "cell_type": "code",
      "metadata": {
        "colab": {
          "base_uri": "https://localhost:8080/"
        },
        "id": "Plau8r-UOqij",
        "outputId": "35a064fb-b66e-4fb6-c3af-73e7649eb681"
      },
      "source": [
        "stock_list = ['AAPL','GOOG','IBM','AAPL','IBM','FB','F','GOOG']#Creates a list\n",
        "stock_set = set(stock_list)#creates a set\n",
        "print(stock_set)"
      ],
      "execution_count": null,
      "outputs": [
        {
          "output_type": "stream",
          "name": "stdout",
          "text": [
            "{'GOOG', 'AAPL', 'IBM', 'FB', 'F'}\n"
          ]
        }
      ]
    },
    {
      "cell_type": "markdown",
      "metadata": {
        "id": "Jyb4GGIoWIHk"
      },
      "source": [
        "Set is an easy way to remove duplicate elements from a list.\n",
        "\n",
        "##Dictionary\n",
        "A dictionary is one of the most important data structures in Python. Unlike sequences which are indexed by integers, dictionaries are indexed by keys which can be either strings or floats.\n",
        "\n",
        "A dictionary is an **unordered** collection of key : value pairs, with the requirement that the keys are unique. We create a dictionary by placing a comma-separated list of key : value pairs within the braces."
      ]
    },
    {
      "cell_type": "code",
      "metadata": {
        "collapsed": true,
        "id": "36mTe5BaOqij"
      },
      "source": [
        "my_dic = {'AAPL':'Apple', 'FB':'Metaxd', 'GOOG':'Google'}#Creates a dictionary"
      ],
      "execution_count": null,
      "outputs": []
    },
    {
      "cell_type": "code",
      "metadata": {
        "colab": {
          "base_uri": "https://localhost:8080/"
        },
        "id": "KUfdVf43Oqij",
        "outputId": "484c95f0-e51e-41b7-b47f-65519d0e2275"
      },
      "source": [
        "print(my_dic['FB'])#Prints a dictionary's element by its defined key 'GOOG'"
      ],
      "execution_count": null,
      "outputs": [
        {
          "output_type": "stream",
          "name": "stdout",
          "text": [
            "Metaxd\n"
          ]
        }
      ]
    },
    {
      "cell_type": "markdown",
      "metadata": {
        "id": "gSicoNqDWP4c"
      },
      "source": [
        "After defining a dictionary, we can access any value by indicating its key in brackets."
      ]
    },
    {
      "cell_type": "code",
      "metadata": {
        "colab": {
          "base_uri": "https://localhost:8080/"
        },
        "id": "IrTZdq9FOqij",
        "outputId": "ccc50519-fca4-41ca-8ba9-968baac85630"
      },
      "source": [
        "my_dic['GOOG'] = 'The Google Company'#Assigns a string to an specific key on de dictionary\n",
        "print(my_dic['GOOG'])"
      ],
      "execution_count": null,
      "outputs": [
        {
          "output_type": "stream",
          "name": "stdout",
          "text": [
            "The Google Company\n"
          ]
        }
      ]
    },
    {
      "cell_type": "markdown",
      "metadata": {
        "id": "M9sDsTEMWQvc"
      },
      "source": [
        "We can also change the value associated with a specified key:"
      ]
    },
    {
      "cell_type": "code",
      "metadata": {
        "colab": {
          "base_uri": "https://localhost:8080/"
        },
        "id": "lupRHf1_Oqij",
        "outputId": "c851a73e-1ee1-467f-acd2-e37b407eb820"
      },
      "source": [
        "print(my_dic.keys())#.keys gets dictionary's keys\n",
        "print(type(my_dic.keys()))"
      ],
      "execution_count": null,
      "outputs": [
        {
          "output_type": "stream",
          "name": "stdout",
          "text": [
            "dict_keys(['AAPL', 'FB', 'GOOG'])\n",
            "<class 'dict_keys'>\n"
          ]
        }
      ]
    },
    {
      "cell_type": "markdown",
      "metadata": {
        "id": "VPuDinlwWS9D"
      },
      "source": [
        "The built-in method of the dictionary object dict.keys() returns a list of all the keys used in the dictionary."
      ]
    },
    {
      "cell_type": "markdown",
      "metadata": {
        "id": "kSGzgNb2Womz"
      },
      "source": [
        "# Common String Operations\n",
        "A string is an immutable sequence of characters. It can be sliced by index just like a tuple:"
      ]
    },
    {
      "cell_type": "code",
      "metadata": {
        "colab": {
          "base_uri": "https://localhost:8080/"
        },
        "id": "xPojDnm9Oqik",
        "outputId": "a448a587-8526-4322-bc8a-822f59d50b4f"
      },
      "source": [
        "my_str = 'Welcome to QuantConnect'\n",
        "print(my_str[8:])#Strings can also be sliced by selecting an incial or ending character"
      ],
      "execution_count": null,
      "outputs": [
        {
          "output_type": "stream",
          "name": "stdout",
          "text": [
            "to QuantConnect\n"
          ]
        }
      ]
    },
    {
      "cell_type": "markdown",
      "metadata": {
        "id": "wuJYy7tvWtM7"
      },
      "source": [
        "There are many methods associated with strings. We can use string.count() to count the occurrences of a character in a string, use string.find() to return the index of a specific character, and use string.replace() to replace characters"
      ]
    },
    {
      "cell_type": "code",
      "metadata": {
        "colab": {
          "base_uri": "https://localhost:8080/"
        },
        "id": "u9deZq1SOqik",
        "outputId": "f8edcec4-55d2-4186-da10-7be80360e77c"
      },
      "source": [
        "print('Counting the number of a appears in this sentence'.count('a')) #Gets how many times a character is in a string\n",
        "print('The first time a appears in this sentence'.find('a'))#Gets the firts time a character in a string (returning its index)\n",
        "print('all the a in this sentence now becomes e'.replace('a','e'))#Replaces the first argument with the second one"
      ],
      "execution_count": null,
      "outputs": [
        {
          "output_type": "stream",
          "name": "stdout",
          "text": [
            "3\n",
            "15\n",
            "ell the e in this sentence now becomes e\n"
          ]
        }
      ]
    },
    {
      "cell_type": "markdown",
      "metadata": {
        "id": "sJPn3rkvWwHN"
      },
      "source": [
        "The most commonly used method for strings is string.split(). This method will split the string by the indicated character and return a list:"
      ]
    },
    {
      "cell_type": "code",
      "metadata": {
        "colab": {
          "base_uri": "https://localhost:8080/"
        },
        "id": "hbIaFLFHOqik",
        "outputId": "fb69b835-4062-4aaa-bd35-c2017f29efd7"
      },
      "source": [
        "Time = '2001-12-13 05:33:33'\n",
        "splited_list = Time.split(' ')#Creates a list separating the string using the given parameter as a reference\n",
        "date = splited_list[0] \n",
        "time = splited_list[1]\n",
        "print(date, time)\n",
        "hour = time.split(':')[0]#Splits by \":\"\n",
        "year = date.split('-')[0]\n",
        "print(hour)\n",
        "print(year)"
      ],
      "execution_count": null,
      "outputs": [
        {
          "output_type": "stream",
          "name": "stdout",
          "text": [
            "2001-12-13 05:33:33\n",
            "05\n",
            "2001\n"
          ]
        }
      ]
    },
    {
      "cell_type": "markdown",
      "metadata": {
        "id": "9cJQGk96WyVc"
      },
      "source": [
        "We can replace parts of a string by our variable. This is called string formatting."
      ]
    },
    {
      "cell_type": "code",
      "metadata": {
        "colab": {
          "base_uri": "https://localhost:8080/"
        },
        "id": "-E_rIvv6Oqik",
        "outputId": "152503dd-4443-46e6-aa1c-2fad4847f493"
      },
      "source": [
        "my_time = 'Hour: {}, Minute:{}'.format('09','43')#Replaces brackets with the given parameters in the same order\n",
        "print(my_time)"
      ],
      "execution_count": null,
      "outputs": [
        {
          "output_type": "stream",
          "name": "stdout",
          "text": [
            "Hour: 09, Minute:43\n"
          ]
        }
      ]
    },
    {
      "cell_type": "markdown",
      "metadata": {
        "id": "1_NbVldpWzAs"
      },
      "source": [
        "Another way to format a string is to use the % symbol."
      ]
    },
    {
      "cell_type": "code",
      "metadata": {
        "colab": {
          "base_uri": "https://localhost:8080/"
        },
        "id": "4rZ4rkD2Oqik",
        "outputId": "71d9bc1d-57ce-4ed4-b9cd-ce6b1ad177ca"
      },
      "source": [
        "print('the pi number is %f'%3.14)#Replaces values with % to that last given value\n",
        "print('%s to %s'%('Welcome','Quantconnect'))#Does the same but with multiple values"
      ],
      "execution_count": null,
      "outputs": [
        {
          "output_type": "stream",
          "name": "stdout",
          "text": [
            "the pi number is 3.140000\n",
            "Welcome to Quantconnect\n"
          ]
        }
      ]
    },
    {
      "cell_type": "markdown",
      "metadata": {
        "id": "v_5cocrDW3MN"
      },
      "source": [
        "# Summary\n",
        "\n",
        "Weave seen the basic data types and data structures in Python. It's important to keep practicing to become familiar with these data structures. In the next tutorial, we will cover for and while loops and logical operations in Python."
      ]
    },
    {
      "cell_type": "markdown",
      "metadata": {
        "id": "QL6dNxwCXNEt"
      },
      "source": [
        "<div align=\"center\">\n",
        "<img style=\"display: block; margin: auto;\" alt=\"photo\" src=\"https://cdn.quantconnect.com/web/i/icon.png\">\n",
        "\n",
        "Quantconnect\n",
        "\n",
        "Introduction to Financial Python\n",
        "</div>\n",
        "\n",
        "# 02 Logical Operations and Loops\n",
        "\n",
        "# Introduction\n",
        "We discussed the basic data types and data structures in Python in the last tutorial. This chapter covers logical operations and loops in Python, which are very common in programming.\n",
        "\n",
        "# Logical Operations\n",
        "Like most programming languages, Python has comparison operators:"
      ]
    },
    {
      "cell_type": "code",
      "metadata": {
        "colab": {
          "base_uri": "https://localhost:8080/"
        },
        "id": "70Guys_rOv7a",
        "outputId": "45b17d5b-88a6-4c24-95a2-c6f52423708e"
      },
      "source": [
        "print(1 == 0)#Equals\n",
        "print(1 == 1)#Equals\n",
        "print(1 != 0)#Not equals\n",
        "print(5 >= 5)#Greater than or equal to\n",
        "print(5 <= 6)#Less than or equal to"
      ],
      "execution_count": null,
      "outputs": [
        {
          "output_type": "stream",
          "name": "stdout",
          "text": [
            "False\n",
            "True\n",
            "True\n",
            "True\n",
            "True\n"
          ]
        }
      ]
    },
    {
      "cell_type": "markdown",
      "metadata": {
        "id": "8aFHYDj-YTXt"
      },
      "source": [
        "Each statement above has a boolean value, which must be either True or False, but not both.\n",
        "\n",
        "We can combine simple statements P and Q to form complex statements using logical operators:\n",
        "\n",
        "- The statement \"P and Q\" is true if both P and Q are true, otherwise it is false.\n",
        "- The statement \"P or Q\" is false if both P and Q are false, otherwise it is true.\n",
        "- The statement \"not P\" is true if P is false, and vice versa."
      ]
    },
    {
      "cell_type": "code",
      "metadata": {
        "colab": {
          "base_uri": "https://localhost:8080/"
        },
        "id": "O5YEEcUbOv7d",
        "outputId": "b812964e-767a-4313-8f20-ec54fbd9610e"
      },
      "source": [
        "print(2 > 1 and 3 > 2)# > is greater than, < is less than\n",
        "print(2 > 1 and 3 < 2) #or and and are logical operators\n",
        "print(2 > 1 or 3 < 2)\n",
        "print(2 < 1 and 3 < 2)"
      ],
      "execution_count": null,
      "outputs": [
        {
          "output_type": "stream",
          "name": "stdout",
          "text": [
            "True\n",
            "False\n",
            "True\n",
            "False\n"
          ]
        }
      ]
    },
    {
      "cell_type": "markdown",
      "metadata": {
        "id": "Dy7yzoSXYXmL"
      },
      "source": [
        "When dealing with a very complex logical statement that involves in several statements, we can use brackets to separate and combine them."
      ]
    },
    {
      "cell_type": "code",
      "metadata": {
        "colab": {
          "base_uri": "https://localhost:8080/"
        },
        "id": "QZ-W2xJZOv7d",
        "outputId": "aca6fd0b-c9e6-425f-b26d-dc0c91cd4700"
      },
      "source": [
        "print((3 > 2 or 1 < 3) and (1!=3 and 4>3) and not ( 3 < 2 or 1 < 3 and (1!=3 and 4>3)))#Uses brackets to separate logical statements\n",
        "print(3 > 2 or 1 < 3 and (1!=3 and 4>3) and not ( 3 < 2 or 1 < 3 and (1!=3 and 4>3)))"
      ],
      "execution_count": null,
      "outputs": [
        {
          "output_type": "stream",
          "name": "stdout",
          "text": [
            "False\n",
            "True\n"
          ]
        }
      ]
    },
    {
      "cell_type": "markdown",
      "metadata": {
        "id": "s95xoRYMYaPD"
      },
      "source": [
        "Comparing the above two statements, we can see that it's wise to use brackets when we make a complex logical statement.\n",
        "\n",
        "# If Statement\n",
        "An if statement executes a segment of code only if its condition is true. A standard if statement consists of 3 segments: if, elif and else."
      ]
    },
    {
      "cell_type": "markdown",
      "metadata": {
        "id": "aRzMMitAaBOL"
      },
      "source": [
        "```python\n",
        "if statement1:\n",
        "    # if the statement1 is true, execute the code here.\n",
        "    # code.....\n",
        "    # code.....\n",
        "elif statement2:\n",
        "    # if the statement 1 is false, skip the codes above to this part.\n",
        "    # code......\n",
        "    # code......\n",
        "else:\n",
        "    # if none of the above statements is True, skip to this part\n",
        "    # code......\n",
        "```"
      ]
    },
    {
      "cell_type": "markdown",
      "metadata": {
        "id": "l59R2AS8aH2K"
      },
      "source": [
        "An if statement doesn't necessarily has elif and else part. If it's not specified, the indented block of code will be executed when the condition is true, otherwise the whole if statement will be skipped."
      ]
    },
    {
      "cell_type": "code",
      "metadata": {
        "colab": {
          "base_uri": "https://localhost:8080/"
        },
        "id": "FZ5GoTXfOv7e",
        "outputId": "aa9e5324-dfb8-4e01-a2bb-8d61d40eaf09"
      },
      "source": [
        "i = 0\n",
        "if i == 0: #Executes the code below only if the logical operation is True\n",
        "    print('i==0 is True')"
      ],
      "execution_count": null,
      "outputs": [
        {
          "output_type": "stream",
          "name": "stdout",
          "text": [
            "i==0 is True\n"
          ]
        }
      ]
    },
    {
      "cell_type": "markdown",
      "metadata": {
        "id": "nPNW-l5eaJn8"
      },
      "source": [
        "As we mentioned above, we can write some complex statements here:"
      ]
    },
    {
      "cell_type": "code",
      "metadata": {
        "colab": {
          "base_uri": "https://localhost:8080/"
        },
        "id": "gh-U6nMzOv7e",
        "outputId": "77d9ea99-11ed-4f16-e05f-5675ee234a46"
      },
      "source": [
        "p = 1 > 0\n",
        "q = 2 > 3\n",
        "if p and q: #Using if with more complex logical statements\n",
        "    print('p and q is true')\n",
        "elif p and not q:\n",
        "    print('q is false')\n",
        "elif q and not p: #elif and else are used to put more contitionals\n",
        "    print('p is false')\n",
        "else:\n",
        "    print('None of p and q is true')"
      ],
      "execution_count": null,
      "outputs": [
        {
          "output_type": "stream",
          "name": "stdout",
          "text": [
            "q is false\n"
          ]
        }
      ]
    },
    {
      "cell_type": "markdown",
      "metadata": {
        "id": "tgRDwiAsaMOL"
      },
      "source": [
        "# Loop Structure\n",
        "Loops are an essential part of programming. The \"for\" and \"while\" loops run a block of code repeatedly.\n",
        "\n",
        "## While Loop\n",
        "A \"while\" loop will run repeatedly until a certain condition has been met."
      ]
    },
    {
      "cell_type": "code",
      "metadata": {
        "colab": {
          "base_uri": "https://localhost:8080/"
        },
        "id": "uQLau8d5Ov7f",
        "outputId": "43546123-4236-4c22-d4ae-f6a791803dbf"
      },
      "source": [
        "i = 15\n",
        "while i > 7: #While the  statement is True, code below will execute\n",
        "    print(i)\n",
        "    i -= 1 #i is an iterator"
      ],
      "execution_count": null,
      "outputs": [
        {
          "output_type": "stream",
          "name": "stdout",
          "text": [
            "15\n",
            "14\n",
            "13\n",
            "12\n",
            "11\n",
            "10\n",
            "9\n",
            "8\n"
          ]
        }
      ]
    },
    {
      "cell_type": "markdown",
      "metadata": {
        "id": "ydLddFAPaTOE"
      },
      "source": [
        "When making a while loop, we need to ensure that something changes from iteration to iteration so that the while loop will terminate, otherwise, it will run forever. Here we used i += 1 (short for i = i + 1) to make i larger after each iteration. This is the most commonly used method to control a while loop.\n",
        "\n",
        "## For Loop\n",
        "A \"for\" loop will iterate over a sequence of value and terminate when the sequence has ended."
      ]
    },
    {
      "cell_type": "code",
      "metadata": {
        "colab": {
          "base_uri": "https://localhost:8080/"
        },
        "id": "kt8Ie8u1Ov7f",
        "outputId": "bf16df13-3930-43f1-b4a3-454627282e95"
      },
      "source": [
        "for i in reversed([1,2,3,4,5]): #Will iterate on the list's items and execute, for each of them, the code below\n",
        "    print(i)"
      ],
      "execution_count": null,
      "outputs": [
        {
          "output_type": "stream",
          "name": "stdout",
          "text": [
            "5\n",
            "4\n",
            "3\n",
            "2\n",
            "1\n"
          ]
        }
      ]
    },
    {
      "cell_type": "markdown",
      "metadata": {
        "id": "yWStqpreaX-T"
      },
      "source": [
        "We can also add if statements in a for loop. Here is a real example from our pairs trading algorithm:"
      ]
    },
    {
      "cell_type": "code",
      "metadata": {
        "colab": {
          "base_uri": "https://localhost:8080/"
        },
        "id": "kElmffvFOv7f",
        "outputId": "eea9ffd3-0e9d-4465-86bd-f7d3144585f2"
      },
      "source": [
        "stocks = ['AAPL','GOOG','IBM','FB','F','V', 'G', 'GE']\n",
        "selected = ['AAPL','IBM']\n",
        "new_list = []\n",
        "for i in stocks:\n",
        "    if i not in selected: #adds a conditional inside a for loop\n",
        "        new_list.append(i) \n",
        "print(stocks)"
      ],
      "execution_count": null,
      "outputs": [
        {
          "output_type": "stream",
          "name": "stdout",
          "text": [
            "['AAPL', 'GOOG', 'IBM', 'FB', 'F', 'V', 'G', 'GE']\n"
          ]
        }
      ]
    },
    {
      "cell_type": "markdown",
      "metadata": {
        "id": "wb2hry9dahE0"
      },
      "source": [
        "Here we iterated all the elements in the list 'stocks'. Later in this chapter, we will introduce a smarter way to do this, which is just a one-line code.\n",
        "\n",
        "## Break and continue\n",
        "These are two commonly used commands in a for loop. If \"break\" is triggered while a loop is executing, the loop will terminate immediately:"
      ]
    },
    {
      "cell_type": "code",
      "metadata": {
        "colab": {
          "base_uri": "https://localhost:8080/"
        },
        "id": "yF5wMVItOv7g",
        "outputId": "8cb3bd15-a126-4a91-ac0c-9696d93b08d6"
      },
      "source": [
        "stocks = ['AAPL','GOOG','IBM','FB','F','V', 'G', 'GE']\n",
        "for i in stocks:\n",
        "    print(i)\n",
        "    if i == 'FB':\n",
        "        break #Terminates the loop"
      ],
      "execution_count": null,
      "outputs": [
        {
          "output_type": "stream",
          "name": "stdout",
          "text": [
            "AAPL\n",
            "GOOG\n",
            "IBM\n",
            "FB\n"
          ]
        }
      ]
    },
    {
      "cell_type": "markdown",
      "metadata": {
        "id": "R0toxyp3ao0T"
      },
      "source": [
        "The \"continue\" command tells the loop to end this iteration and skip to the next iteration:"
      ]
    },
    {
      "cell_type": "code",
      "metadata": {
        "colab": {
          "base_uri": "https://localhost:8080/"
        },
        "id": "Stg-CH6IOv7g",
        "outputId": "c104d3a7-becc-4df8-c5f7-e5221654673a"
      },
      "source": [
        "stocks = ['AAPL','GOOG','IBM','FB','F','V', 'G', 'GE']\n",
        "for i in stocks:\n",
        "    if i == 'FB':\n",
        "        continue #goes to next iteration skipping the code below\n",
        "    print(i)"
      ],
      "execution_count": null,
      "outputs": [
        {
          "output_type": "stream",
          "name": "stdout",
          "text": [
            "AAPL\n",
            "GOOG\n",
            "IBM\n",
            "F\n",
            "V\n",
            "G\n",
            "GE\n"
          ]
        }
      ]
    },
    {
      "cell_type": "markdown",
      "metadata": {
        "id": "4NusvdhBaxpZ"
      },
      "source": [
        "# List Comprehension\n",
        "List comprehension is a Pythonic way to create lists. Common applications are to make new lists where each element is the result of some operations applied to each member of another sequence. For example, if we want to create a list of squares using for loop:"
      ]
    },
    {
      "cell_type": "code",
      "metadata": {
        "colab": {
          "base_uri": "https://localhost:8080/"
        },
        "id": "bdxxeOABOv7h",
        "outputId": "4c976f98-d139-4d13-afbf-4b2f45a6698e"
      },
      "source": [
        "squares = []\n",
        "for i in [1,2,3,4,5]:\n",
        "    squares.append(i**2)#ads the result of i**2 to the list\n",
        "print(squares)"
      ],
      "execution_count": null,
      "outputs": [
        {
          "output_type": "stream",
          "name": "stdout",
          "text": [
            "[1, 4, 9, 16, 25]\n"
          ]
        }
      ]
    },
    {
      "cell_type": "markdown",
      "metadata": {
        "id": "--KliJBOa1CC"
      },
      "source": [
        "Using list comprehension:"
      ]
    },
    {
      "cell_type": "code",
      "metadata": {
        "colab": {
          "base_uri": "https://localhost:8080/"
        },
        "id": "440-yjG8Ov7h",
        "outputId": "0652f8cc-a198-4e36-9d38-e2a5d9b8dab1"
      },
      "source": [
        "list = [1,2,3,4,5]\n",
        "squares = [x**2 for x in list] #Compress the previous for loop into its list notation\n",
        "print(squares)"
      ],
      "execution_count": null,
      "outputs": [
        {
          "output_type": "stream",
          "name": "stdout",
          "text": [
            "[1, 4, 9, 16, 25]\n"
          ]
        }
      ]
    },
    {
      "cell_type": "markdown",
      "metadata": {
        "id": "uMuCfR3ya3zT"
      },
      "source": [
        "Recall the example above where we used a for loop to select stocks. Here we use list comprehension:"
      ]
    },
    {
      "cell_type": "code",
      "metadata": {
        "colab": {
          "base_uri": "https://localhost:8080/"
        },
        "id": "ZGtCtog2Ov7h",
        "outputId": "8f701e38-0257-48e9-8451-b05effee6576"
      },
      "source": [
        "stocks = ['AAPL','GOOG','IBM','FB','F','V', 'G', 'GE']\n",
        "selected = ['AAPL','IBM']\n",
        "new_list = [x for x in stocks if x in selected]  #Adds a conditional to the comprehension\n",
        "print(new_list)"
      ],
      "execution_count": null,
      "outputs": [
        {
          "output_type": "stream",
          "name": "stdout",
          "text": [
            "['AAPL', 'IBM']\n"
          ]
        }
      ]
    },
    {
      "cell_type": "markdown",
      "metadata": {
        "id": "EPeUv6Lia5oD"
      },
      "source": [
        "A list comprehension consists of square brackets containing an expression followed by a \"for\" clause, and possibly \"for\" or \"if\" clauses. For example:"
      ]
    },
    {
      "cell_type": "code",
      "metadata": {
        "colab": {
          "base_uri": "https://localhost:8080/"
        },
        "id": "O1AMB5d7Ov7i",
        "outputId": "dbf6f75e-cc6c-4dc8-fe29-febb38f7c85b"
      },
      "source": [
        "print([(x, y) for x in [1,2,3] for y in [3,1,4] if x != y])#More complex list comprehensions using more than one variable\n",
        "print([str(x)+' vs '+str(y) for x in ['AAPL','GOOG','IBM','FB'] for y in ['F','V','G','GE'] if x!=y])"
      ],
      "execution_count": null,
      "outputs": [
        {
          "output_type": "stream",
          "name": "stdout",
          "text": [
            "[(1, 3), (1, 4), (2, 3), (2, 1), (2, 4), (3, 1), (3, 4)]\n",
            "['AAPL vs F', 'AAPL vs V', 'AAPL vs G', 'AAPL vs GE', 'GOOG vs F', 'GOOG vs V', 'GOOG vs G', 'GOOG vs GE', 'IBM vs F', 'IBM vs V', 'IBM vs G', 'IBM vs GE', 'FB vs F', 'FB vs V', 'FB vs G', 'FB vs GE']\n"
          ]
        }
      ]
    },
    {
      "cell_type": "markdown",
      "metadata": {
        "id": "jJpvq-o4a8P7"
      },
      "source": [
        "List comprehension is an elegant way to organize one or more for loops when creating a list.\n",
        "\n",
        "# Summary\n",
        "This chapter has introduced logical operations, loops, and list comprehension. In the next chapter, we will introduce functions and object-oriented programming, which will enable us to make our codes clean and versatile."
      ]
    },
    {
      "cell_type": "markdown",
      "metadata": {
        "id": "Tef_X2wJbdhn"
      },
      "source": [
        "<div align=\"center\">\n",
        "<img style=\"display: block; margin: auto;\" alt=\"photo\" src=\"https://cdn.quantconnect.com/web/i/icon.png\">\n",
        "\n",
        "Quantconnect\n",
        "\n",
        "Introduction to Financial Python\n",
        "</div>\n",
        "\n",
        "# 03 Functions and Objective-Oriented Programming\n",
        "\n",
        "# Introduction\n",
        "\n",
        "In the last tutorial we introduced logical operations, loops and list comprehension. We will introduce functions and object-oriented programming in this chapter, which will enable us to build complex algorithms in more flexible ways.\n",
        "\n",
        "# Functions\n",
        "A function is a reusable block of code. We can use a function to output a value, or do anything else we want. We can easily define our own function by using the keyword \"def\"."
      ]
    },
    {
      "cell_type": "code",
      "metadata": {
        "colab": {
          "base_uri": "https://localhost:8080/"
        },
        "id": "eE_NkTiSO2PO",
        "outputId": "47457689-21ca-488f-88ca-df0884469aa0"
      },
      "source": [
        "def product(x,y):#Defines a function with x and y parameters\n",
        "    return x*y\n",
        "print(product(2,3))#Calls the created function giving the requested parameters\n",
        "print(product(6,11))"
      ],
      "execution_count": null,
      "outputs": [
        {
          "output_type": "stream",
          "name": "stdout",
          "text": [
            "6\n",
            "66\n"
          ]
        }
      ]
    },
    {
      "cell_type": "markdown",
      "metadata": {
        "id": "4oRU_dVJbsdD"
      },
      "source": [
        "The keyword \"def\" is followed by the function name and the parenthesized list of formal parameters. The statements that form the body of the function start at the next line, and must be indented. The product() function above has \"x\" and \"y\" as its parameters. A function doesn't necessarily have parameters:"
      ]
    },
    {
      "cell_type": "code",
      "metadata": {
        "colab": {
          "base_uri": "https://localhost:8080/"
        },
        "id": "JhdWVLbUO2PQ",
        "outputId": "8818cefb-5827-4e1e-ecf1-c984b45a8fcc"
      },
      "source": [
        "def say_hi():#Creates a function without parameters\n",
        "    print('Hello world')\n",
        "say_hi()#Calls the function"
      ],
      "execution_count": null,
      "outputs": [
        {
          "output_type": "stream",
          "name": "stdout",
          "text": [
            "Hello world\n"
          ]
        }
      ]
    },
    {
      "cell_type": "markdown",
      "metadata": {
        "id": "lHwqVpWVb1Jr"
      },
      "source": [
        "# Built-in Function\n",
        "**range()** is a function that creates a list containing an arithmetic sequence. It's often used in for loops. The arguments must be integers. If the \"step\" argument is omitted, it defaults to 1."
      ]
    },
    {
      "cell_type": "code",
      "metadata": {
        "colab": {
          "base_uri": "https://localhost:8080/"
        },
        "id": "VVOTELcIO2PQ",
        "outputId": "7ce99d35-aeb6-4b9b-da27-1d611557b504"
      },
      "source": [
        "print(range(10))#Gets the range 0 to 10\n",
        "print(range(1,11))#Gets the range 1 to 11\n",
        "print(range(1,11,2))#Gets the range 1 to 11 and stepping by 2"
      ],
      "execution_count": null,
      "outputs": [
        {
          "output_type": "stream",
          "name": "stdout",
          "text": [
            "range(0, 10)\n",
            "range(1, 11)\n",
            "range(1, 11, 2)\n"
          ]
        }
      ]
    },
    {
      "cell_type": "markdown",
      "metadata": {
        "id": "PD0cSgiwcQ4L"
      },
      "source": [
        "**len()** is another function used together with range() to create a for loop. This function returns the length of an object. The argument must be a sequence or a collection."
      ]
    },
    {
      "cell_type": "code",
      "metadata": {
        "colab": {
          "base_uri": "https://localhost:8080/"
        },
        "id": "Hg18c7v-O2PR",
        "outputId": "6c05dc8b-b3a0-4e8f-8bbe-9d56621f9826"
      },
      "source": [
        "tickers = ['AAPL','GOOG','IBM','FB','F','V', 'G', 'GE']\n",
        "print('The length of tickers is {}'.format(len(tickers)))#Gets the lenght of the given element (a list or a string)\n",
        "for i in range(len(tickers)):\n",
        "    print(tickers[i])"
      ],
      "execution_count": null,
      "outputs": [
        {
          "output_type": "stream",
          "name": "stdout",
          "text": [
            "The length of tickers is 8\n",
            "AAPL\n",
            "GOOG\n",
            "IBM\n",
            "FB\n",
            "F\n",
            "V\n",
            "G\n",
            "GE\n"
          ]
        }
      ]
    },
    {
      "cell_type": "markdown",
      "metadata": {
        "id": "OIQSuub1cWgi"
      },
      "source": [
        "Note: If you want to print only the tickers without those numbers, then simply write \"for ticker in tickers: print ticker\"\n",
        "\n",
        "**map(**) is a function that applies a specific function to every item of a sequence or collection, and returns a list of the results."
      ]
    },
    {
      "cell_type": "markdown",
      "metadata": {
        "id": "pqPuspeG5HAi"
      },
      "source": [
        "Because list at the moment is [1,2,3,4,5] and overwriting list() from builtins we del list"
      ]
    },
    {
      "cell_type": "code",
      "metadata": {
        "colab": {
          "base_uri": "https://localhost:8080/"
        },
        "id": "caV9c-qk4_eZ",
        "outputId": "3806d650-a193-4571-ef3f-b847632dac3d"
      },
      "source": [
        "print(list)\n",
        "del list #Deletes values in the variable\n",
        "print(list)\n"
      ],
      "execution_count": null,
      "outputs": [
        {
          "output_type": "stream",
          "name": "stdout",
          "text": [
            "[1, 2, 3, 4, 5]\n",
            "<class 'list'>\n"
          ]
        }
      ]
    },
    {
      "cell_type": "code",
      "metadata": {
        "colab": {
          "base_uri": "https://localhost:8080/"
        },
        "id": "lJBs5ECT4mSq",
        "outputId": "0eccbe0c-b560-4914-f1ad-573077de547f"
      },
      "source": [
        "tickers = ['AAPL','GOOG','IBM','FB','F','V', 'G', 'GE']\n",
        "list(map(len,tickers))#Applies len function for every tickers' element"
      ],
      "execution_count": null,
      "outputs": [
        {
          "output_type": "execute_result",
          "data": {
            "text/plain": [
              "[4, 4, 3, 2, 1, 1, 1, 2]"
            ]
          },
          "metadata": {},
          "execution_count": 30
        }
      ]
    },
    {
      "cell_type": "code",
      "metadata": {
        "colab": {
          "base_uri": "https://localhost:8080/"
        },
        "id": "78DyKVOyO2PR",
        "outputId": "daae333e-cef0-41cb-b7b7-313168d8dc66"
      },
      "source": [
        "tickers = ['AAPL','GOOG','IBM','FB','F','V', 'G', 'GE']\n",
        "print(list(map(len,tickers)))#Applies len function for every tickers' element"
      ],
      "execution_count": null,
      "outputs": [
        {
          "output_type": "stream",
          "name": "stdout",
          "text": [
            "[4, 4, 3, 2, 1, 1, 1, 2]\n"
          ]
        }
      ]
    },
    {
      "cell_type": "markdown",
      "metadata": {
        "id": "mvr06UM7ca7b"
      },
      "source": [
        "The **lambda operator** is a way to create small anonymous functions. These functions are just needed where they have been created. For example:"
      ]
    },
    {
      "cell_type": "code",
      "metadata": {
        "colab": {
          "base_uri": "https://localhost:8080/"
        },
        "id": "pAEHADYXO2PR",
        "outputId": "75c5aba8-c833-4e58-8dc6-25f26f19999a"
      },
      "source": [
        "list(map(lambda x: x**2, range(10))) #Defines an anonymous function used only in the map"
      ],
      "execution_count": null,
      "outputs": [
        {
          "output_type": "execute_result",
          "data": {
            "text/plain": [
              "[0, 1, 4, 9, 16, 25, 36, 49, 64, 81]"
            ]
          },
          "metadata": {},
          "execution_count": 32
        }
      ]
    },
    {
      "cell_type": "markdown",
      "metadata": {
        "id": "Mgixpxomcj3T"
      },
      "source": [
        "map() can be applied to more than one list. The lists have to have the same length."
      ]
    },
    {
      "cell_type": "code",
      "metadata": {
        "colab": {
          "base_uri": "https://localhost:8080/"
        },
        "id": "HtckhAaJO2PS",
        "outputId": "264aeb8e-5e43-4c77-815a-58c491e55206"
      },
      "source": [
        "list(map(lambda x, y: x+y, [1,2,3,4,5],[5,4,3,2,1])) #Operates items from both lists"
      ],
      "execution_count": null,
      "outputs": [
        {
          "output_type": "execute_result",
          "data": {
            "text/plain": [
              "[6, 6, 6, 6, 6]"
            ]
          },
          "metadata": {},
          "execution_count": 33
        }
      ]
    },
    {
      "cell_type": "markdown",
      "metadata": {
        "id": "ZDnMTH-KcklT"
      },
      "source": [
        "**sorted()** takes a list or set and returns a new sorted list"
      ]
    },
    {
      "cell_type": "code",
      "metadata": {
        "colab": {
          "base_uri": "https://localhost:8080/"
        },
        "id": "P0sHUMFWO2PS",
        "outputId": "f44050ab-0166-4f28-9253-2a6b78171e70"
      },
      "source": [
        "sorted([5,2,3,4,1])#Returns sorted list"
      ],
      "execution_count": null,
      "outputs": [
        {
          "output_type": "execute_result",
          "data": {
            "text/plain": [
              "[1, 2, 3, 4, 5]"
            ]
          },
          "metadata": {},
          "execution_count": 34
        }
      ]
    },
    {
      "cell_type": "markdown",
      "metadata": {
        "id": "-N5_EDOFcnsc"
      },
      "source": [
        "We can add a \"key\" parameter to specify a function to be called on each list element prior to making comparisons. For example:"
      ]
    },
    {
      "cell_type": "code",
      "metadata": {
        "colab": {
          "base_uri": "https://localhost:8080/"
        },
        "id": "0i3peZ0bO2PS",
        "outputId": "f5b38740-2079-4dbb-da66-7a3a405c13a0"
      },
      "source": [
        "price_list = [('AAPL',144.09),('GOOG',911.71),('MSFT',69),('FB',150),('WMT',75.32)]\n",
        "sorted(price_list, key = lambda x: x[1])#sorts by the second value of each tuple"
      ],
      "execution_count": null,
      "outputs": [
        {
          "output_type": "execute_result",
          "data": {
            "text/plain": [
              "[('MSFT', 69), ('WMT', 75.32), ('AAPL', 144.09), ('FB', 150), ('GOOG', 911.71)]"
            ]
          },
          "metadata": {},
          "execution_count": 35
        }
      ]
    },
    {
      "cell_type": "markdown",
      "metadata": {
        "id": "yun2zptKcxe_"
      },
      "source": [
        "By default the values are sorted by ascending order. We can change it to descending by adding an optional parameter \"reverse'."
      ]
    },
    {
      "cell_type": "code",
      "metadata": {
        "colab": {
          "base_uri": "https://localhost:8080/"
        },
        "id": "dEZqdl94O2PT",
        "outputId": "98d5b7c1-5982-48ea-8249-fff9a08c67db"
      },
      "source": [
        "price_list = [('AAPL',144.09),('GOOG',911.71),('MSFT',69),('FB',150),('WMT',75.32)]\n",
        "sorted(price_list, key = lambda x: x[1],reverse = True)#Reverse the default  order"
      ],
      "execution_count": null,
      "outputs": [
        {
          "output_type": "execute_result",
          "data": {
            "text/plain": [
              "[('GOOG', 911.71), ('FB', 150), ('AAPL', 144.09), ('WMT', 75.32), ('MSFT', 69)]"
            ]
          },
          "metadata": {},
          "execution_count": 36
        }
      ]
    },
    {
      "cell_type": "markdown",
      "metadata": {
        "id": "OA2wYAa0c6Dn"
      },
      "source": [
        "Lists also have a function list.sort(). This function takes the same \"key\" and \"reverse\" arguments as sorted(), but it doesn't return a new list."
      ]
    },
    {
      "cell_type": "code",
      "metadata": {
        "colab": {
          "base_uri": "https://localhost:8080/"
        },
        "id": "pG9VQCLnO2PT",
        "outputId": "57d826fb-97fc-4744-e5ee-72a1e09fa37b"
      },
      "source": [
        "price_list = [('AAPL',144.09),('GOOG',911.71),('MSFT',69),('FB',150),('WMT',75.32)]\n",
        "price_list.sort(key = lambda x: x[1])#Sorts the existent list\n",
        "print(price_list)"
      ],
      "execution_count": null,
      "outputs": [
        {
          "output_type": "stream",
          "name": "stdout",
          "text": [
            "[('MSFT', 69), ('WMT', 75.32), ('AAPL', 144.09), ('FB', 150), ('GOOG', 911.71)]\n"
          ]
        }
      ]
    },
    {
      "cell_type": "markdown",
      "metadata": {
        "id": "mxljL1W1c_c5"
      },
      "source": [
        "# Object-Oriented Programming\n",
        "Python is an object-oriented programming language. It's important to understand the concept of \"objects\" because almost every kind of data from QuantConnect API is an object.\n",
        "\n",
        "## Class\n",
        "A class is a type of data, just like a string, float, or list. When we create an object of that data type, we call it an instance of a class.\n",
        "\n",
        "In Python, everything is an object - everything is an instance of some class. The data stored inside an object are called attributes, and the functions which are associated with the object are called methods.\n",
        "\n",
        "For example, as mentioned above, a list is an object of the \"list\" class, and it has a method list.sort().\n",
        "\n",
        "We can create our own objects by defining a class. We would do this when it's helpful to group certain functions together. For example, we define a class named \"Stock\" here:"
      ]
    },
    {
      "cell_type": "code",
      "metadata": {
        "id": "zC4Y4PgDO2PT"
      },
      "source": [
        "class stock: #Defines the class\n",
        "    def __init__(self, ticker, open, close, volume): #Defines a method with arguments to initialize the class\n",
        "        self.ticker = ticker #Self refers to that attribute in a future class instance\n",
        "        self.open = open\n",
        "        self.close = close\n",
        "        self.volume = volume\n",
        "        self.rate_return = float(close)/open - 1\n",
        " \n",
        "    def update(self, open, close):\n",
        "        self.open = open\n",
        "        self.close = close\n",
        "        self.rate_return = float(self.close)/self.open - 1\n",
        " \n",
        "    def print_return(self):\n",
        "        print(self.rate_return)"
      ],
      "execution_count": null,
      "outputs": []
    },
    {
      "cell_type": "markdown",
      "metadata": {
        "id": "rV06INT5dETi"
      },
      "source": [
        "The \"Stock\" class has attributes \"ticker\", \"open\", \"close\", \"volume\" and \"rate_return\". Inside the class body, the first method is called __init__, which is a special method. When we create a new instance of the class, the __init__ method is immediately executed with all the parameters that we pass to the \"Stock\" object. The purpose of this method is to set up a new \"Stock\" object using data we have provided.\n",
        "\n",
        "Here we create two Stock objects named \"apple\" and \"google\"."
      ]
    },
    {
      "cell_type": "code",
      "metadata": {
        "id": "8tIpNk93O2PU"
      },
      "source": [
        "apple = stock('AAPL', 143.69, 144.09, 20109375) #Creates an object with an instance of the  stock class\n",
        "google = stock('GOOG', 898.7, 911.7, 1561616)"
      ],
      "execution_count": null,
      "outputs": []
    },
    {
      "cell_type": "markdown",
      "metadata": {
        "id": "VxmELNiHdPKS"
      },
      "source": [
        "Stock objects also have two other methods: update() and print_return(). We can access the attribues of a Stock object and call its methods:"
      ]
    },
    {
      "cell_type": "code",
      "metadata": {
        "colab": {
          "base_uri": "https://localhost:8080/"
        },
        "id": "SsiIkmekO2PU",
        "outputId": "1982af0d-933e-4b77-b774-6018e5930dc6"
      },
      "source": [
        "apple.ticker #Gets the attribute \"ticker\" of the object\n",
        "google.print_return() #calls an object's method\n",
        "google.update(912.8,913.4)\n",
        "google.print_return()"
      ],
      "execution_count": null,
      "outputs": [
        {
          "output_type": "stream",
          "name": "stdout",
          "text": [
            "0.014465338822744034\n",
            "0.0006573181419806673\n"
          ]
        }
      ]
    },
    {
      "cell_type": "markdown",
      "metadata": {
        "id": "Q8fl7keNdVKF"
      },
      "source": [
        "By calling the update() function, we updated the open and close prices of a stock. Please note that when we use the attributes or call the methods **inside a class**, we need to specify them as self.attribute or self.method(), otherwise Python will deem them as global variables and thus raise an error.\n",
        "\n",
        "We can add an attribute to an object anywhere:"
      ]
    },
    {
      "cell_type": "code",
      "metadata": {
        "colab": {
          "base_uri": "https://localhost:8080/",
          "height": 35
        },
        "id": "rO4OLnqOO2PU",
        "outputId": "6d5eec00-503d-400e-8c9c-906cdd667633"
      },
      "source": [
        "apple.ceo = 'Tim Cook' #adds an attribute to the object\n",
        "apple.ceo"
      ],
      "execution_count": null,
      "outputs": [
        {
          "output_type": "execute_result",
          "data": {
            "application/vnd.google.colaboratory.intrinsic+json": {
              "type": "string"
            },
            "text/plain": [
              "'Tim Cook'"
            ]
          },
          "metadata": {},
          "execution_count": 41
        }
      ]
    },
    {
      "cell_type": "markdown",
      "metadata": {
        "id": "WyfnFgVidh4J"
      },
      "source": [
        "We can check what names (i.e. attributes and methods) are defined on an object using the dir() function:"
      ]
    },
    {
      "cell_type": "code",
      "metadata": {
        "colab": {
          "base_uri": "https://localhost:8080/"
        },
        "id": "pPoz0LA8O2PU",
        "outputId": "f8b851a5-c0e6-4a66-8dd7-b50c8da5cc8a"
      },
      "source": [
        "dir(apple)#Shows attributes and methods of the given object"
      ],
      "execution_count": null,
      "outputs": [
        {
          "output_type": "execute_result",
          "data": {
            "text/plain": [
              "['__class__',\n",
              " '__delattr__',\n",
              " '__dict__',\n",
              " '__dir__',\n",
              " '__doc__',\n",
              " '__eq__',\n",
              " '__format__',\n",
              " '__ge__',\n",
              " '__getattribute__',\n",
              " '__gt__',\n",
              " '__hash__',\n",
              " '__init__',\n",
              " '__init_subclass__',\n",
              " '__le__',\n",
              " '__lt__',\n",
              " '__module__',\n",
              " '__ne__',\n",
              " '__new__',\n",
              " '__reduce__',\n",
              " '__reduce_ex__',\n",
              " '__repr__',\n",
              " '__setattr__',\n",
              " '__sizeof__',\n",
              " '__str__',\n",
              " '__subclasshook__',\n",
              " '__weakref__',\n",
              " 'ceo',\n",
              " 'close',\n",
              " 'open',\n",
              " 'print_return',\n",
              " 'rate_return',\n",
              " 'ticker',\n",
              " 'update',\n",
              " 'volume']"
            ]
          },
          "metadata": {},
          "execution_count": 42
        }
      ]
    },
    {
      "cell_type": "markdown",
      "metadata": {
        "id": "Qpemj1UZd2aa"
      },
      "source": [
        "## Inheritance\n",
        "Inheritance is a way of arranging classes in a hierarchy from the most general to the most specific. A \"child\" class is a more specific type of a \"parent\" class because a child class will inherit all the attribues and methods of its parent. For example, we define a class named \"Child\" which inherits \"Stock\":"
      ]
    },
    {
      "cell_type": "code",
      "metadata": {
        "id": "UELXnxomO2PV"
      },
      "source": [
        "class child(stock):#Defines a child class from stock class\n",
        "    def __init__(self,name):\n",
        "        self.name = name #Adds an specific attribute to the child class"
      ],
      "execution_count": null,
      "outputs": []
    },
    {
      "cell_type": "code",
      "metadata": {
        "colab": {
          "base_uri": "https://localhost:8080/"
        },
        "id": "ffS2THZyO2PV",
        "outputId": "42bd2261-9a16-45d7-b807-9f81fb5ed34f"
      },
      "source": [
        "aa = child('aa')#Creates an object from child class\n",
        "print(aa.name)#Gets the previously entered parameter\n",
        "aa.update(100,102)#Calls a method from parent class\n",
        "print(aa.open)\n",
        "print(aa.close)\n",
        "print(aa.print_return())"
      ],
      "execution_count": null,
      "outputs": [
        {
          "output_type": "stream",
          "name": "stdout",
          "text": [
            "aa\n",
            "100\n",
            "102\n",
            "0.020000000000000018\n",
            "None\n"
          ]
        }
      ]
    },
    {
      "cell_type": "markdown",
      "metadata": {
        "id": "pdIEjUv2eJqL"
      },
      "source": [
        "As seen above, the new class Child has inherited the methods from Stock.\n",
        "\n",
        "#Summary\n",
        "\n",
        "In this chapter we have introduced functions and classes. When we write a QuantConnect algorithm, we would define our algorithm as a class (QCAlgorithm). This means our algorithm inherited the QC API methods from QCAlgorithm class.\n",
        "\n",
        "In the next chapter, we will introduce NumPy and Pandas, which enable us to conduct scientific calculations in Python."
      ]
    },
    {
      "cell_type": "markdown",
      "metadata": {
        "id": "dQbENH6mexTd"
      },
      "source": [
        "<div align=\"center\">\n",
        "<img style=\"display: block; margin: auto;\" alt=\"photo\" src=\"https://cdn.quantconnect.com/web/i/icon.png\">\n",
        "\n",
        "Quantconnect\n",
        "\n",
        "Introduction to Financial Python\n",
        "</div>\n",
        "\n",
        "# 04 NumPy and Basic Pandas\n",
        "\n",
        "# Introduction\n",
        "\n",
        "Now that we have introduced the fundamentals of Python, it's time to learn about NumPy and Pandas.\n",
        "\n",
        "# NumPy\n",
        "NumPy is the core library for scientific computing in Python. It provides a high-performance multidimensional array object, and tools for working with these arrays. It also has strong integration with Pandas, which is another powerful tool for manipulating financial data.\n",
        "\n",
        "Python packages like NumPy and Pandas contain classes and methods which we can use by importing the package:"
      ]
    },
    {
      "cell_type": "code",
      "metadata": {
        "id": "aIESp-rdO58h"
      },
      "source": [
        "import numpy as np #Imports numpy"
      ],
      "execution_count": null,
      "outputs": []
    },
    {
      "cell_type": "markdown",
      "metadata": {
        "id": "GScHHJ5ke7ea"
      },
      "source": [
        "## Basic NumPy Arrays\n",
        "A NumPy array is a grid of values, all of the same type, and is indexed by a tuple of nonnegative integers. Here we make an array by passing a list of Apple stock prices:"
      ]
    },
    {
      "cell_type": "code",
      "metadata": {
        "colab": {
          "base_uri": "https://localhost:8080/"
        },
        "id": "lZI1wkwDO58i",
        "outputId": "6585b577-f0df-431a-bc2f-9870c43efcc5"
      },
      "source": [
        "price_list = [143.73, 145.83, 143.68, 144.02, 143.5, 142.62]\n",
        "price_array = np.array(price_list)#Creates the numpy array\n",
        "print(price_array, type(price_array))"
      ],
      "execution_count": null,
      "outputs": [
        {
          "output_type": "stream",
          "name": "stdout",
          "text": [
            "[143.73 145.83 143.68 144.02 143.5  142.62] <class 'numpy.ndarray'>\n"
          ]
        }
      ]
    },
    {
      "cell_type": "markdown",
      "metadata": {
        "id": "-5Yj6u9ifB-t"
      },
      "source": [
        "Notice that the type of array is \"ndarray\" which is a multi-dimensional array. If we pass np.array() a list of lists, it will create a 2-dimensional array."
      ]
    },
    {
      "cell_type": "code",
      "metadata": {
        "colab": {
          "base_uri": "https://localhost:8080/"
        },
        "id": "obvIZrK-O58j",
        "outputId": "940ee423-b4f9-4ad9-f40a-34f0e586dfaf"
      },
      "source": [
        "Ar = np.array([[1,3],[2,4]]) #Creates 2-dimensional array\n",
        "print(Ar, type(Ar))"
      ],
      "execution_count": null,
      "outputs": [
        {
          "output_type": "stream",
          "name": "stdout",
          "text": [
            "[[1 3]\n",
            " [2 4]] <class 'numpy.ndarray'>\n"
          ]
        }
      ]
    },
    {
      "cell_type": "markdown",
      "metadata": {
        "id": "uDdfLD9HfHkl"
      },
      "source": [
        "We get the dimensions of an ndarray using the .shape attribute:"
      ]
    },
    {
      "cell_type": "code",
      "metadata": {
        "colab": {
          "base_uri": "https://localhost:8080/"
        },
        "id": "G2txdn73O58j",
        "outputId": "821a7f1c-72e9-4d3a-d8cd-2dde667626fd"
      },
      "source": [
        "print(Ar.shape)#Gets the dimensions of the given array"
      ],
      "execution_count": null,
      "outputs": [
        {
          "output_type": "stream",
          "name": "stdout",
          "text": [
            "(2, 2)\n"
          ]
        }
      ]
    },
    {
      "cell_type": "markdown",
      "metadata": {
        "id": "87W5ueORfPEy"
      },
      "source": [
        "If we create an 2-dimensional array (i.e. matrix), each row can be accessed by index:"
      ]
    },
    {
      "cell_type": "code",
      "metadata": {
        "colab": {
          "base_uri": "https://localhost:8080/"
        },
        "id": "x_QV9aPbO58j",
        "outputId": "79d99ef0-abb6-4b0f-fa90-1e14f2931220"
      },
      "source": [
        "print(Ar[0])#Accesses to the first row\n",
        "print(Ar[1])#Accesses to the second row"
      ],
      "execution_count": null,
      "outputs": [
        {
          "output_type": "stream",
          "name": "stdout",
          "text": [
            "[1 3]\n",
            "[2 4]\n"
          ]
        }
      ]
    },
    {
      "cell_type": "markdown",
      "metadata": {
        "id": "5Hke7Vt-fSGB"
      },
      "source": [
        "If we want to access the matrix by column instead:"
      ]
    },
    {
      "cell_type": "code",
      "metadata": {
        "colab": {
          "base_uri": "https://localhost:8080/"
        },
        "id": "gHVwbPfOO58j",
        "outputId": "48332202-ad0d-4706-9471-e838f5a1eb44"
      },
      "source": [
        "print('the first column: ', Ar[:,0])#Accesses to the first column\n",
        "print('the second column: ', Ar[:,1])#Accesses to the second column"
      ],
      "execution_count": null,
      "outputs": [
        {
          "output_type": "stream",
          "name": "stdout",
          "text": [
            "the first column:  [1 2]\n",
            "the second column:  [3 4]\n"
          ]
        }
      ]
    },
    {
      "cell_type": "markdown",
      "metadata": {
        "id": "T61cD0HMfStB"
      },
      "source": [
        "## Array Functions\n",
        "Some functions built in NumPy that allow us to perform calculations on arrays. For example, we can apply the natural logarithm to each element of an array:"
      ]
    },
    {
      "cell_type": "code",
      "metadata": {
        "colab": {
          "base_uri": "https://localhost:8080/"
        },
        "id": "PKhwtJ7XO58k",
        "outputId": "b5661a93-68c8-4d8f-c89b-f4fe0c3f6ef3"
      },
      "source": [
        "print(np.log(price_array))#Applies natural logarithm to each elemente on the array"
      ],
      "execution_count": null,
      "outputs": [
        {
          "output_type": "stream",
          "name": "stdout",
          "text": [
            "[4.96793654 4.98244156 4.9675886  4.96995218 4.96633504 4.96018375]\n"
          ]
        }
      ]
    },
    {
      "cell_type": "markdown",
      "metadata": {
        "id": "uzjBRFBLfZ-D"
      },
      "source": [
        "Other functions return a single value:"
      ]
    },
    {
      "cell_type": "code",
      "metadata": {
        "colab": {
          "base_uri": "https://localhost:8080/"
        },
        "id": "nQuABZqUO58k",
        "outputId": "275ddc42-c3ac-4c9e-83d6-faabde0885dd"
      },
      "source": [
        "print(np.mean(price_array))#Returns the mean of the values in the array (x1 + x2 + x3 + ... + xn)/n\n",
        "print(np.std(price_array))#Gets the standard deviation of the array\n",
        "print(np.sum(price_array))# sums all the  values (x1+x2+...+xn)\n",
        "print(np.max(price_array))#Gets the maximum value"
      ],
      "execution_count": null,
      "outputs": [
        {
          "output_type": "stream",
          "name": "stdout",
          "text": [
            "143.89666666666668\n",
            "0.9673790478515796\n",
            "863.38\n",
            "145.83\n"
          ]
        }
      ]
    },
    {
      "cell_type": "markdown",
      "metadata": {
        "id": "IRW95BsifgDB"
      },
      "source": [
        "The functions above return the mean, standard deviation, total and maximum value of an array.\n",
        "\n",
        "# Pandas\n",
        "Pandas is one of the most powerful tools for dealing with financial data. \n",
        "\n",
        "First we need to import Pandas:"
      ]
    },
    {
      "cell_type": "code",
      "metadata": {
        "id": "xIYH4oUfO58k"
      },
      "source": [
        "import pandas as pd #Imports Pandas"
      ],
      "execution_count": null,
      "outputs": []
    },
    {
      "cell_type": "markdown",
      "metadata": {
        "id": "zOig5gORfnJU"
      },
      "source": [
        "## Series\n",
        "Series is a one-dimensional labeled array capable of holding any data type (integers, strings, float, Python object, etc.)\n",
        "\n",
        "We create a Series by calling pd.Series(data), where data can be a dictionary, an array or just a scalar value."
      ]
    },
    {
      "cell_type": "code",
      "metadata": {
        "colab": {
          "base_uri": "https://localhost:8080/"
        },
        "id": "JmzoNzrPO58k",
        "outputId": "9982dba9-4b84-4ad8-f366-3565c9a79330"
      },
      "source": [
        "price = [143.73, 145.83, 143.68, 144.02, 143.5, 142.62, \"aaa\", \"bbb\"]\n",
        "s = pd.Series(price) #Creates a series with the given list\n",
        "s"
      ],
      "execution_count": null,
      "outputs": [
        {
          "output_type": "execute_result",
          "data": {
            "text/plain": [
              "0    143.73\n",
              "1    145.83\n",
              "2    143.68\n",
              "3    144.02\n",
              "4     143.5\n",
              "5    142.62\n",
              "6       aaa\n",
              "7       bbb\n",
              "dtype: object"
            ]
          },
          "metadata": {},
          "execution_count": 6
        }
      ]
    },
    {
      "cell_type": "markdown",
      "metadata": {
        "id": "tP5iDnunfq46"
      },
      "source": [
        "We can customize the indices of a new Series:"
      ]
    },
    {
      "cell_type": "code",
      "metadata": {
        "colab": {
          "base_uri": "https://localhost:8080/"
        },
        "id": "eswQC3ZPO58l",
        "outputId": "0e6ac176-81b1-4498-b2da-eb1dab1bf071"
      },
      "source": [
        "s = pd.Series(price,index = ['a','b','c','d','e','f', 'g', 'h']) #Uses the given indexes instead of the default ones\n",
        "s"
      ],
      "execution_count": null,
      "outputs": [
        {
          "output_type": "execute_result",
          "data": {
            "text/plain": [
              "a    143.73\n",
              "b    145.83\n",
              "c    143.68\n",
              "d    144.02\n",
              "e     143.5\n",
              "f    142.62\n",
              "g       aaa\n",
              "h       bbb\n",
              "dtype: object"
            ]
          },
          "metadata": {},
          "execution_count": 7
        }
      ]
    },
    {
      "cell_type": "markdown",
      "metadata": {
        "id": "wdZrb8pEfuua"
      },
      "source": [
        "Or we can change the indices of an existing Series:"
      ]
    },
    {
      "cell_type": "code",
      "metadata": {
        "colab": {
          "base_uri": "https://localhost:8080/"
        },
        "id": "MwlRnPF6O58l",
        "outputId": "5798e325-9e75-4612-c8c2-9d7baecedb90"
      },
      "source": [
        "s.index = [6,5,4,66,2,1,0,-1] #Changes the indexes of an existing series\n",
        "s"
      ],
      "execution_count": null,
      "outputs": [
        {
          "output_type": "execute_result",
          "data": {
            "text/plain": [
              " 6     143.73\n",
              " 5     145.83\n",
              " 4     143.68\n",
              " 66    144.02\n",
              " 2      143.5\n",
              " 1     142.62\n",
              " 0        aaa\n",
              "-1        bbb\n",
              "dtype: object"
            ]
          },
          "metadata": {},
          "execution_count": 105
        }
      ]
    },
    {
      "cell_type": "markdown",
      "metadata": {
        "id": "6cGNQZwLfxIz"
      },
      "source": [
        "Series is like a list since it can be sliced by index:"
      ]
    },
    {
      "cell_type": "code",
      "metadata": {
        "colab": {
          "base_uri": "https://localhost:8080/"
        },
        "id": "N9bBSg6cO58l",
        "outputId": "f7e9b8ac-0333-4ef6-d0a6-2f157cf5ab21"
      },
      "source": [
        "print(s[3:]) #Slices the series by the 4th index\n",
        "print(s[:-1]) #Excludes last element"
      ],
      "execution_count": null,
      "outputs": [
        {
          "output_type": "stream",
          "name": "stdout",
          "text": [
            " 66    144.02\n",
            " 2      143.5\n",
            " 1     142.62\n",
            " 0        aaa\n",
            "-1        bbb\n",
            "dtype: object\n",
            "6     143.73\n",
            "5     145.83\n",
            "4     143.68\n",
            "66    144.02\n",
            "2      143.5\n",
            "1     142.62\n",
            "0        aaa\n",
            "dtype: object\n"
          ]
        }
      ]
    },
    {
      "cell_type": "markdown",
      "metadata": {
        "id": "5V25nViZfz3Z"
      },
      "source": [
        "Series is also like a dictionary whose values can be set or fetched by index label:"
      ]
    },
    {
      "cell_type": "code",
      "metadata": {
        "colab": {
          "base_uri": "https://localhost:8080/"
        },
        "id": "b3Y0kKGYO58l",
        "outputId": "b2c4c228-cc29-44fd-d2b6-a5bb593e9459"
      },
      "source": [
        "print(s[-1]) #Gets  the value of the series by the label -1\n",
        "s[-1] = 0 #Changes value of the label -1 of the series\n",
        "print(s)"
      ],
      "execution_count": null,
      "outputs": [
        {
          "output_type": "stream",
          "name": "stdout",
          "text": [
            "0\n",
            " 6     143.73\n",
            " 5     145.83\n",
            " 4     143.68\n",
            " 66    144.02\n",
            " 2      143.5\n",
            " 1     142.62\n",
            " 0        aaa\n",
            "-1          0\n",
            "dtype: object\n"
          ]
        }
      ]
    },
    {
      "cell_type": "markdown",
      "metadata": {
        "id": "RQ1P7Gkyf060"
      },
      "source": [
        "Series can also have a name attribute, which will be used when we make up a Pandas DataFrame using several series."
      ]
    },
    {
      "cell_type": "code",
      "metadata": {
        "colab": {
          "base_uri": "https://localhost:8080/"
        },
        "id": "ZeD4-p7KO58m",
        "outputId": "3ff567c5-7837-4aa1-a424-89fc887cf687"
      },
      "source": [
        "s = pd.Series(price, name = 'My First Series') #Gives a name to the series\n",
        "print(s)\n",
        "print(s.name)"
      ],
      "execution_count": null,
      "outputs": [
        {
          "output_type": "stream",
          "name": "stdout",
          "text": [
            "0    143.73\n",
            "1    145.83\n",
            "2    143.68\n",
            "3    144.02\n",
            "4     143.5\n",
            "5    142.62\n",
            "6       aaa\n",
            "7       bbb\n",
            "Name: My First Series, dtype: object\n",
            "My First Series\n"
          ]
        }
      ]
    },
    {
      "cell_type": "markdown",
      "metadata": {
        "id": "geJb1pGHf5Et"
      },
      "source": [
        "We can get the statistical summaries of a Series:"
      ]
    },
    {
      "cell_type": "code",
      "metadata": {
        "colab": {
          "base_uri": "https://localhost:8080/"
        },
        "id": "mGPtFcjegm4i",
        "outputId": "005b4313-4c83-4ccb-ace5-6f27b08e02aa"
      },
      "source": [
        "print(s.describe())#Gets the statistical summaries of the series"
      ],
      "execution_count": null,
      "outputs": [
        {
          "output_type": "stream",
          "name": "stdout",
          "text": [
            "count       8.00\n",
            "unique      8.00\n",
            "top       143.73\n",
            "freq        1.00\n",
            "Name: My First Series, dtype: float64\n"
          ]
        }
      ]
    },
    {
      "cell_type": "markdown",
      "metadata": {
        "id": "LkdZu-CDgvlR"
      },
      "source": [
        "## Time Index\n",
        "Pandas has a built-in function specifically for creating date indices: pd.date_range(). We use it to create a new index for our Series:"
      ]
    },
    {
      "cell_type": "code",
      "metadata": {
        "colab": {
          "base_uri": "https://localhost:8080/"
        },
        "id": "HJe5hU4zO58m",
        "outputId": "e4888846-880b-4da7-aca5-5087d5c72df8"
      },
      "source": [
        "time_index = pd.date_range('2005-12-31',periods = len(s),freq = 'Y') #Creates a Pandas' Time Index getting 2005-12-31 as the initial value, using the series lenght to define...\n",
        "print (type(time_index))#... how many elements it will have and defining a yearly frequence\n",
        "print(time_index)\n",
        "s.index = time_index #Indexes the series by the defined time index\n",
        "print(s)"
      ],
      "execution_count": null,
      "outputs": [
        {
          "output_type": "stream",
          "name": "stdout",
          "text": [
            "<class 'pandas.core.indexes.datetimes.DatetimeIndex'>\n",
            "DatetimeIndex(['2005-12-31', '2006-12-31', '2007-12-31', '2008-12-31',\n",
            "               '2009-12-31', '2010-12-31', '2011-12-31', '2012-12-31'],\n",
            "              dtype='datetime64[ns]', freq='A-DEC')\n",
            "2005-12-31    143.73\n",
            "2006-12-31    145.83\n",
            "2007-12-31    143.68\n",
            "2008-12-31    144.02\n",
            "2009-12-31     143.5\n",
            "2010-12-31    142.62\n",
            "2011-12-31       aaa\n",
            "2012-12-31       bbb\n",
            "Freq: A-DEC, Name: My First Series, dtype: object\n"
          ]
        }
      ]
    },
    {
      "cell_type": "markdown",
      "metadata": {
        "id": "7WedejFZg19J"
      },
      "source": [
        "Series are usually accessed using the iloc[] and loc[] methods. iloc[] is used to access elements by integer index, and loc[] is used to access the index of the series.\n",
        "\n",
        "iloc[] is necessary when the index of a series are integers, take our previous defined series as example:"
      ]
    },
    {
      "cell_type": "code",
      "metadata": {
        "colab": {
          "base_uri": "https://localhost:8080/"
        },
        "id": "KrVSOyMvO58m",
        "outputId": "69c9576c-6ee9-43bd-fb68-2bf25ba934cb"
      },
      "source": [
        "s.index = [8,7,6,5,4,3,2,1]\n",
        "print(s)\n",
        "print(s[3])#Gets the element by series' label index (dictionary behavior)"
      ],
      "execution_count": null,
      "outputs": [
        {
          "output_type": "stream",
          "name": "stdout",
          "text": [
            "8    143.73\n",
            "7    145.83\n",
            "6    143.68\n",
            "5    144.02\n",
            "4     143.5\n",
            "3    142.62\n",
            "2       aaa\n",
            "1       bbb\n",
            "Name: My First Series, dtype: object\n",
            "142.62\n"
          ]
        }
      ]
    },
    {
      "cell_type": "markdown",
      "metadata": {
        "id": "r30VKPtpg61p"
      },
      "source": [
        "If we intended to take the second element of the series, we would make a mistake here, because the index are integers. In order to access to the element we want, we use iloc[] here:"
      ]
    },
    {
      "cell_type": "code",
      "metadata": {
        "colab": {
          "base_uri": "https://localhost:8080/"
        },
        "id": "bHukfaAmO58m",
        "outputId": "f171f8ca-0c30-443c-9e4c-4605ba5d5205"
      },
      "source": [
        "print(s.iloc[3])#Gets the element in the given integer index (list behavior)"
      ],
      "execution_count": null,
      "outputs": [
        {
          "output_type": "stream",
          "name": "stdout",
          "text": [
            "144.02\n"
          ]
        }
      ]
    },
    {
      "cell_type": "markdown",
      "metadata": {
        "id": "kHVBRL_Rg84j"
      },
      "source": [
        "While working with time series data, we often use time as the index. Pandas provides us with various methods to access the data by time index"
      ]
    },
    {
      "cell_type": "code",
      "metadata": {
        "colab": {
          "base_uri": "https://localhost:8080/"
        },
        "id": "FCf8Hg7jO58n",
        "outputId": "6a1c6ec4-e6cb-48dd-de34-dd137b3cb467"
      },
      "source": [
        "s.index = time_index\n",
        "print(s['2007-12-31']) #Gets element by time index"
      ],
      "execution_count": null,
      "outputs": [
        {
          "output_type": "stream",
          "name": "stdout",
          "text": [
            "143.68\n"
          ]
        }
      ]
    },
    {
      "cell_type": "markdown",
      "metadata": {
        "id": "XJXcrSFpg-To"
      },
      "source": [
        "We can even access to a range of dates:"
      ]
    },
    {
      "cell_type": "code",
      "metadata": {
        "colab": {
          "base_uri": "https://localhost:8080/"
        },
        "id": "NsE-Lr_9O58n",
        "outputId": "fcfb8b77-f79f-4992-a72d-8e3cc40bb575"
      },
      "source": [
        "print(s['2006-12-31':'2009-12-31'])#Gets only de elements in the given date range"
      ],
      "execution_count": null,
      "outputs": [
        {
          "output_type": "stream",
          "name": "stdout",
          "text": [
            "2006-12-31    145.83\n",
            "2007-12-31    143.68\n",
            "2008-12-31    144.02\n",
            "2009-12-31     143.5\n",
            "Freq: A-DEC, Name: My First Series, dtype: object\n"
          ]
        }
      ]
    },
    {
      "cell_type": "markdown",
      "metadata": {
        "id": "cWA3NCXEhCLB"
      },
      "source": [
        "Series[] provides us a very flexible way to index data. We can add any condition in the square brackets:"
      ]
    },
    {
      "cell_type": "code",
      "metadata": {
        "colab": {
          "base_uri": "https://localhost:8080/"
        },
        "id": "aawbrg2EO58n",
        "outputId": "348049bc-ae5b-4bbd-a423-c8861256b565"
      },
      "source": [
        "price = [145.6, 126.7, 167.9, 188.7, 158.7, 0.5, 100]\n",
        "s = pd.Series(price, name = 'My First Series')\n",
        "print(np.mean(s))\n",
        "print(s[s < np.mean(s)] ) #gets the mean of the series and displays only the elements less than that mean\n",
        "print(s[(s > np.mean(s)) & (s < np.mean(s) + 1.64*np.std(s))])#Displays the elements that are greater than the mean and that are less than the mean + 1.64*std(s) i.e. the standard deviation"
      ],
      "execution_count": null,
      "outputs": [
        {
          "output_type": "stream",
          "name": "stdout",
          "text": [
            "126.8714285714286\n",
            "1    126.7\n",
            "5      0.5\n",
            "6    100.0\n",
            "Name: My First Series, dtype: float64\n",
            "0    145.6\n",
            "2    167.9\n",
            "3    188.7\n",
            "4    158.7\n",
            "Name: My First Series, dtype: float64\n"
          ]
        }
      ]
    },
    {
      "cell_type": "markdown",
      "metadata": {
        "id": "jAByChIwhEuI"
      },
      "source": [
        "As demonstrated, we can use logical operators like & (and), | (or) and ~ (not) to group multiple conditions.\n",
        "\n",
        "# Summary\n",
        "Here we have introduced NumPy and Pandas for scientific computing in Python. In the next chapter, we will dive into Pandas to learn resampling and manipulating Pandas DataFrame, which are commonly used in financial data analysis."
      ]
    },
    {
      "cell_type": "markdown",
      "metadata": {
        "id": "OtjOpw6oJp6z"
      },
      "source": [
        "<div align=\"center\">\n",
        "<img style=\"display: block; margin: auto;\" alt=\"photo\" src=\"https://cdn.quantconnect.com/web/i/icon.png\"> <img style=\"display: block; margin: auto;\" alt=\"photo\" src=\"https://www.marketing-branding.com/wp-content/uploads/2020/07/google-colaboratory-colab-guia-completa.jpg \" width=\"50\" height=\"50\">\n",
        "<img style=\"display: block; margin: auto;\" alt=\"photo\" src=\"https://upload.wikimedia.org/wikipedia/commons/d/da/Yahoo_Finance_Logo_2019.svg\" width=\"50\" height=\"50\">  \n",
        "\n",
        "Quantconnect -> Google Colab with Yahoo Finance data\n",
        "\n",
        "Introduction to Financial Python\n",
        "</div>\n",
        "\n",
        "# 05 Pandas-Resampling and DataFrame\n",
        "\n",
        "# Introduction\n",
        "In the last chapter we had a glimpse of Pandas. In this chapter we will learn about resampling methods and the DataFrame object, which is a powerful tool for financial data analysis.\n",
        "\n",
        "# Fetching Data\n",
        "Here we use the Yahoo Finance to retrieve data.\n"
      ]
    },
    {
      "cell_type": "code",
      "metadata": {
        "colab": {
          "base_uri": "https://localhost:8080/"
        },
        "id": "luU8mZTsHW9x",
        "outputId": "693a43c0-d0d6-4697-a1da-8450788d42bc"
      },
      "source": [
        "!pip install yfinance #gets data from yfinance"
      ],
      "execution_count": null,
      "outputs": [
        {
          "output_type": "stream",
          "name": "stdout",
          "text": [
            "Collecting yfinance\n",
            "  Downloading yfinance-0.1.64.tar.gz (26 kB)\n",
            "Requirement already satisfied: pandas>=0.24 in /usr/local/lib/python3.7/dist-packages (from yfinance) (1.1.5)\n",
            "Requirement already satisfied: numpy>=1.15 in /usr/local/lib/python3.7/dist-packages (from yfinance) (1.19.5)\n",
            "Requirement already satisfied: requests>=2.20 in /usr/local/lib/python3.7/dist-packages (from yfinance) (2.23.0)\n",
            "Requirement already satisfied: multitasking>=0.0.7 in /usr/local/lib/python3.7/dist-packages (from yfinance) (0.0.9)\n",
            "Collecting lxml>=4.5.1\n",
            "  Downloading lxml-4.6.3-cp37-cp37m-manylinux2014_x86_64.whl (6.3 MB)\n",
            "\u001b[K     |████████████████████████████████| 6.3 MB 7.6 MB/s \n",
            "\u001b[?25hRequirement already satisfied: pytz>=2017.2 in /usr/local/lib/python3.7/dist-packages (from pandas>=0.24->yfinance) (2018.9)\n",
            "Requirement already satisfied: python-dateutil>=2.7.3 in /usr/local/lib/python3.7/dist-packages (from pandas>=0.24->yfinance) (2.8.2)\n",
            "Requirement already satisfied: six>=1.5 in /usr/local/lib/python3.7/dist-packages (from python-dateutil>=2.7.3->pandas>=0.24->yfinance) (1.15.0)\n",
            "Requirement already satisfied: chardet<4,>=3.0.2 in /usr/local/lib/python3.7/dist-packages (from requests>=2.20->yfinance) (3.0.4)\n",
            "Requirement already satisfied: idna<3,>=2.5 in /usr/local/lib/python3.7/dist-packages (from requests>=2.20->yfinance) (2.10)\n",
            "Requirement already satisfied: certifi>=2017.4.17 in /usr/local/lib/python3.7/dist-packages (from requests>=2.20->yfinance) (2021.5.30)\n",
            "Requirement already satisfied: urllib3!=1.25.0,!=1.25.1,<1.26,>=1.21.1 in /usr/local/lib/python3.7/dist-packages (from requests>=2.20->yfinance) (1.24.3)\n",
            "Building wheels for collected packages: yfinance\n",
            "  Building wheel for yfinance (setup.py) ... \u001b[?25l\u001b[?25hdone\n",
            "  Created wheel for yfinance: filename=yfinance-0.1.64-py2.py3-none-any.whl size=24109 sha256=93856a20a6fffac178c7d82753d36cc1614e1d7d2dcba47ea128cba58323fa59\n",
            "  Stored in directory: /root/.cache/pip/wheels/86/fe/9b/a4d3d78796b699e37065e5b6c27b75cff448ddb8b24943c288\n",
            "Successfully built yfinance\n",
            "Installing collected packages: lxml, yfinance\n",
            "  Attempting uninstall: lxml\n",
            "    Found existing installation: lxml 4.2.6\n",
            "    Uninstalling lxml-4.2.6:\n",
            "      Successfully uninstalled lxml-4.2.6\n",
            "Successfully installed lxml-4.6.3 yfinance-0.1.64\n"
          ]
        }
      ]
    },
    {
      "cell_type": "code",
      "metadata": {
        "colab": {
          "base_uri": "https://localhost:8080/",
          "height": 487
        },
        "id": "mWZ-nirTZHrE",
        "outputId": "e8b1ecbe-332d-4e7f-88a5-01996fed95d0"
      },
      "source": [
        "import yfinance as yf #imports yfinance\n",
        "\n",
        "aapl = yf.Ticker(\"AAPL\") #Gets the info from the imported data\n",
        "\n",
        "# get stock info\n",
        "print(aapl.info) \n",
        "\n",
        "# get historical market data\n",
        "aapl_table = aapl.history(start=\"2016-01-01\",  end=\"2021-12-31\")\n",
        "aapl_table"
      ],
      "execution_count": null,
      "outputs": [
        {
          "output_type": "stream",
          "name": "stdout",
          "text": [
            "{'zip': '95014', 'sector': 'Technology', 'fullTimeEmployees': 100000, 'longBusinessSummary': 'Apple Inc. designs, manufactures, and markets smartphones, personal computers, tablets, wearables, and accessories worldwide. It also sells various related services. The company offers iPhone, a line of smartphones; Mac, a line of personal computers; iPad, a line of multi-purpose tablets; and wearables, home, and accessories comprising AirPods, Apple TV, Apple Watch, Beats products, HomePod, iPod touch, and other Apple-branded and third-party accessories. It also provides AppleCare support services; cloud services store services; and operates various platforms, including the App Store, that allow customers to discover and download applications and digital content, such as books, music, video, games, and podcasts. In addition, the company offers various services, such as Apple Arcade, a game subscription service; Apple Music, which offers users a curated listening experience with on-demand radio stations; Apple News+, a subscription news and magazine service; Apple TV+, which offers exclusive original content; Apple Card, a co-branded credit card; and Apple Pay, a cashless payment service, as well as licenses its intellectual property. The company serves consumers, and small and mid-sized businesses; and the education, enterprise, and government markets. It sells and delivers third-party applications for its products through the App Store. The company also sells its products through its retail and online stores, and direct sales force; and third-party cellular network carriers, wholesalers, retailers, and resellers. Apple Inc. was founded in 1977 and is headquartered in Cupertino, California.', 'city': 'Cupertino', 'phone': '408 996 1010', 'state': 'CA', 'country': 'United States', 'companyOfficers': [], 'website': 'http://www.apple.com', 'maxAge': 1, 'address1': 'One Apple Park Way', 'industry': 'Consumer Electronics', 'ebitdaMargins': 0.32867, 'profitMargins': 0.25882, 'grossMargins': 0.41779, 'operatingCashflow': 104037998592, 'revenueGrowth': 0.288, 'operatingMargins': 0.29782, 'ebitda': 120233000960, 'targetLowPrice': 132, 'recommendationKey': 'buy', 'grossProfits': 152836000000, 'freeCashflow': 76476121088, 'targetMedianPrice': 170, 'currentPrice': 149.8, 'earningsGrowth': 0.679, 'currentRatio': 1.075, 'returnOnAssets': 0.20179, 'numberOfAnalystOpinions': 40, 'targetMeanPrice': 168.84, 'debtToEquity': 197.684, 'returnOnEquity': 1.47443, 'targetHighPrice': 190, 'totalCash': 62639001600, 'totalDebt': 124718997504, 'totalRevenue': 365817004032, 'totalCashPerShare': 3.813, 'financialCurrency': 'USD', 'revenuePerShare': 21.904, 'quickRatio': 0.91, 'recommendationMean': 1.9, 'exchange': 'NMS', 'shortName': 'Apple Inc.', 'longName': 'Apple Inc.', 'exchangeTimezoneName': 'America/New_York', 'exchangeTimezoneShortName': 'EDT', 'isEsgPopulated': False, 'gmtOffSetMilliseconds': '-14400000', 'quoteType': 'EQUITY', 'symbol': 'AAPL', 'messageBoardId': 'finmb_24937', 'market': 'us_market', 'annualHoldingsTurnover': None, 'enterpriseToRevenue': 6.896, 'beta3Year': None, 'enterpriseToEbitda': 20.983, '52WeekChange': 0.377218, 'morningStarRiskRating': None, 'forwardEps': 5.98, 'revenueQuarterlyGrowth': None, 'sharesOutstanding': 16530199552, 'fundInceptionDate': None, 'annualReportExpenseRatio': None, 'totalAssets': None, 'bookValue': 3.841, 'sharesShort': 100881318, 'sharesPercentSharesOut': 0.0061000003, 'fundFamily': None, 'lastFiscalYearEnd': 1632528000, 'heldPercentInstitutions': 0.58625, 'netIncomeToCommon': 94679998464, 'trailingEps': 5.61, 'lastDividendValue': 0.22, 'SandP52WeekChange': 0.39125264, 'priceToBook': 39.00026, 'heldPercentInsiders': 0.00071999995, 'nextFiscalYearEnd': 1695600000, 'yield': None, 'mostRecentQuarter': 1632528000, 'shortRatio': 1.25, 'sharesShortPreviousMonthDate': 1631664000, 'floatShares': 16409866410, 'beta': None, 'enterpriseValue': 2522812514304, 'priceHint': 2, 'threeYearAverageReturn': None, 'lastSplitDate': 1598832000, 'lastSplitFactor': '4:1', 'legalType': None, 'lastDividendDate': 1628208000, 'morningStarOverallRating': None, 'earningsQuarterlyGrowth': 0.622, 'priceToSalesTrailing12Months': 6.769024, 'dateShortInterest': 1634256000, 'pegRatio': 1.35, 'ytdReturn': None, 'forwardPE': 25.050167, 'lastCapGain': None, 'shortPercentOfFloat': 0.0061000003, 'sharesShortPriorMonth': 100926641, 'impliedSharesOutstanding': None, 'category': None, 'fiveYearAverageReturn': None, 'previousClose': 152.57, 'regularMarketOpen': 147.215, 'twoHundredDayAverage': 140.07079, 'trailingAnnualDividendYield': 0.005571213, 'payoutRatio': 0.16309999, 'volume24Hr': None, 'regularMarketDayHigh': 149.935, 'navPrice': None, 'averageDailyVolume10Day': 73271114, 'regularMarketPreviousClose': 152.57, 'fiftyDayAverage': 145.59914, 'trailingAnnualDividendRate': 0.85, 'open': 147.215, 'toCurrency': None, 'averageVolume10days': 73271114, 'expireDate': None, 'algorithm': None, 'dividendRate': 0.88, 'exDividendDate': 1628208000, 'circulatingSupply': None, 'startDate': None, 'regularMarketDayLow': 146.4128, 'currency': 'USD', 'trailingPE': 26.702316, 'regularMarketVolume': 124953168, 'lastMarket': None, 'maxSupply': None, 'openInterest': None, 'marketCap': 2476224020480, 'volumeAllCurrencies': None, 'strikePrice': None, 'averageVolume': 75359889, 'dayLow': 146.4128, 'ask': 149.93, 'askSize': 1100, 'volume': 124953168, 'fiftyTwoWeekHigh': 157.26, 'fromCurrency': None, 'fiveYearAvgDividendYield': 1.22, 'fiftyTwoWeekLow': 107.32, 'bid': 149.91, 'tradeable': False, 'dividendYield': 0.0058999998, 'bidSize': 1100, 'dayHigh': 149.935, 'regularMarketPrice': 149.8, 'preMarketPrice': None, 'logo_url': 'https://logo.clearbit.com/apple.com'}\n"
          ]
        },
        {
          "output_type": "execute_result",
          "data": {
            "text/html": [
              "<div>\n",
              "<style scoped>\n",
              "    .dataframe tbody tr th:only-of-type {\n",
              "        vertical-align: middle;\n",
              "    }\n",
              "\n",
              "    .dataframe tbody tr th {\n",
              "        vertical-align: top;\n",
              "    }\n",
              "\n",
              "    .dataframe thead th {\n",
              "        text-align: right;\n",
              "    }\n",
              "</style>\n",
              "<table border=\"1\" class=\"dataframe\">\n",
              "  <thead>\n",
              "    <tr style=\"text-align: right;\">\n",
              "      <th></th>\n",
              "      <th>Open</th>\n",
              "      <th>High</th>\n",
              "      <th>Low</th>\n",
              "      <th>Close</th>\n",
              "      <th>Volume</th>\n",
              "      <th>Dividends</th>\n",
              "      <th>Stock Splits</th>\n",
              "    </tr>\n",
              "    <tr>\n",
              "      <th>Date</th>\n",
              "      <th></th>\n",
              "      <th></th>\n",
              "      <th></th>\n",
              "      <th></th>\n",
              "      <th></th>\n",
              "      <th></th>\n",
              "      <th></th>\n",
              "    </tr>\n",
              "  </thead>\n",
              "  <tbody>\n",
              "    <tr>\n",
              "      <th>2016-01-04</th>\n",
              "      <td>23.655170</td>\n",
              "      <td>24.291446</td>\n",
              "      <td>23.514544</td>\n",
              "      <td>24.286835</td>\n",
              "      <td>270597600</td>\n",
              "      <td>0.0</td>\n",
              "      <td>0.0</td>\n",
              "    </tr>\n",
              "    <tr>\n",
              "      <th>2016-01-05</th>\n",
              "      <td>24.379041</td>\n",
              "      <td>24.402094</td>\n",
              "      <td>23.609056</td>\n",
              "      <td>23.678215</td>\n",
              "      <td>223164000</td>\n",
              "      <td>0.0</td>\n",
              "      <td>0.0</td>\n",
              "    </tr>\n",
              "    <tr>\n",
              "      <th>2016-01-06</th>\n",
              "      <td>23.182567</td>\n",
              "      <td>23.599836</td>\n",
              "      <td>23.023499</td>\n",
              "      <td>23.214842</td>\n",
              "      <td>273829600</td>\n",
              "      <td>0.0</td>\n",
              "      <td>0.0</td>\n",
              "    </tr>\n",
              "    <tr>\n",
              "      <th>2016-01-07</th>\n",
              "      <td>22.749162</td>\n",
              "      <td>23.083437</td>\n",
              "      <td>22.230459</td>\n",
              "      <td>22.235069</td>\n",
              "      <td>324377600</td>\n",
              "      <td>0.0</td>\n",
              "      <td>0.0</td>\n",
              "    </tr>\n",
              "    <tr>\n",
              "      <th>2016-01-08</th>\n",
              "      <td>22.719199</td>\n",
              "      <td>22.848298</td>\n",
              "      <td>22.306542</td>\n",
              "      <td>22.352648</td>\n",
              "      <td>283192000</td>\n",
              "      <td>0.0</td>\n",
              "      <td>0.0</td>\n",
              "    </tr>\n",
              "    <tr>\n",
              "      <th>...</th>\n",
              "      <td>...</td>\n",
              "      <td>...</td>\n",
              "      <td>...</td>\n",
              "      <td>...</td>\n",
              "      <td>...</td>\n",
              "      <td>...</td>\n",
              "      <td>...</td>\n",
              "    </tr>\n",
              "    <tr>\n",
              "      <th>2021-10-25</th>\n",
              "      <td>148.679993</td>\n",
              "      <td>149.369995</td>\n",
              "      <td>147.619995</td>\n",
              "      <td>148.639999</td>\n",
              "      <td>50720600</td>\n",
              "      <td>0.0</td>\n",
              "      <td>0.0</td>\n",
              "    </tr>\n",
              "    <tr>\n",
              "      <th>2021-10-26</th>\n",
              "      <td>149.330002</td>\n",
              "      <td>150.839996</td>\n",
              "      <td>149.009995</td>\n",
              "      <td>149.320007</td>\n",
              "      <td>60893400</td>\n",
              "      <td>0.0</td>\n",
              "      <td>0.0</td>\n",
              "    </tr>\n",
              "    <tr>\n",
              "      <th>2021-10-27</th>\n",
              "      <td>149.360001</td>\n",
              "      <td>149.729996</td>\n",
              "      <td>148.490005</td>\n",
              "      <td>148.850006</td>\n",
              "      <td>56094900</td>\n",
              "      <td>0.0</td>\n",
              "      <td>0.0</td>\n",
              "    </tr>\n",
              "    <tr>\n",
              "      <th>2021-10-28</th>\n",
              "      <td>149.820007</td>\n",
              "      <td>153.169998</td>\n",
              "      <td>149.720001</td>\n",
              "      <td>152.570007</td>\n",
              "      <td>100077900</td>\n",
              "      <td>0.0</td>\n",
              "      <td>0.0</td>\n",
              "    </tr>\n",
              "    <tr>\n",
              "      <th>2021-10-29</th>\n",
              "      <td>147.220001</td>\n",
              "      <td>149.940002</td>\n",
              "      <td>146.410004</td>\n",
              "      <td>149.800003</td>\n",
              "      <td>124850400</td>\n",
              "      <td>0.0</td>\n",
              "      <td>0.0</td>\n",
              "    </tr>\n",
              "  </tbody>\n",
              "</table>\n",
              "<p>1468 rows × 7 columns</p>\n",
              "</div>"
            ],
            "text/plain": [
              "                  Open        High  ...  Dividends  Stock Splits\n",
              "Date                                ...                         \n",
              "2016-01-04   23.655170   24.291446  ...        0.0           0.0\n",
              "2016-01-05   24.379041   24.402094  ...        0.0           0.0\n",
              "2016-01-06   23.182567   23.599836  ...        0.0           0.0\n",
              "2016-01-07   22.749162   23.083437  ...        0.0           0.0\n",
              "2016-01-08   22.719199   22.848298  ...        0.0           0.0\n",
              "...                ...         ...  ...        ...           ...\n",
              "2021-10-25  148.679993  149.369995  ...        0.0           0.0\n",
              "2021-10-26  149.330002  150.839996  ...        0.0           0.0\n",
              "2021-10-27  149.360001  149.729996  ...        0.0           0.0\n",
              "2021-10-28  149.820007  153.169998  ...        0.0           0.0\n",
              "2021-10-29  147.220001  149.940002  ...        0.0           0.0\n",
              "\n",
              "[1468 rows x 7 columns]"
            ]
          },
          "metadata": {},
          "execution_count": 4
        }
      ]
    },
    {
      "cell_type": "markdown",
      "metadata": {
        "id": "NkFztSYhJyVA"
      },
      "source": [
        "We will create a Series named \"aapl\" whose values are Apple's daily closing prices, which are of course indexed by dates:"
      ]
    },
    {
      "cell_type": "code",
      "metadata": {
        "id": "QDJbOpCeHW91"
      },
      "source": [
        "aapl = aapl_table['Close']['2021'] #gets values from apple´s daily closing prices of 2021"
      ],
      "execution_count": null,
      "outputs": []
    },
    {
      "cell_type": "code",
      "metadata": {
        "colab": {
          "base_uri": "https://localhost:8080/"
        },
        "id": "SXfgCQJOHW91",
        "outputId": "52897e8b-361b-4eba-fb3c-33309c7abbe3"
      },
      "source": [
        "print(aapl)"
      ],
      "execution_count": null,
      "outputs": [
        {
          "output_type": "stream",
          "name": "stdout",
          "text": [
            "Date\n",
            "2021-01-04    128.804825\n",
            "2021-01-05    130.397324\n",
            "2021-01-06    126.007957\n",
            "2021-01-07    130.307755\n",
            "2021-01-08    131.432465\n",
            "                 ...    \n",
            "2021-10-25    148.639999\n",
            "2021-10-26    149.320007\n",
            "2021-10-27    148.850006\n",
            "2021-10-28    152.570007\n",
            "2021-10-29    149.800003\n",
            "Name: Close, Length: 209, dtype: float64\n"
          ]
        }
      ]
    },
    {
      "cell_type": "markdown",
      "metadata": {
        "id": "waUEgBhzKEcA"
      },
      "source": [
        "Recall that we can fetch a specific data point using series['yyyy-mm-dd']. We can also fetch the data in a specific month using series['yyyy-mm']."
      ]
    },
    {
      "cell_type": "code",
      "metadata": {
        "colab": {
          "base_uri": "https://localhost:8080/"
        },
        "id": "2gS50G0zHW92",
        "outputId": "a2f60aa4-5a46-41fc-e99e-183be00893e6"
      },
      "source": [
        "print(aapl['2021-07'])#Gets specific data of July"
      ],
      "execution_count": null,
      "outputs": [
        {
          "output_type": "stream",
          "name": "stdout",
          "text": [
            "Date\n",
            "2021-07-01    137.064651\n",
            "2021-07-02    139.750626\n",
            "2021-07-06    141.807541\n",
            "2021-07-07    144.353729\n",
            "2021-07-08    143.025711\n",
            "2021-07-09    144.892914\n",
            "2021-07-12    144.283829\n",
            "2021-07-13    145.422119\n",
            "2021-07-14    148.926865\n",
            "2021-07-15    148.257874\n",
            "2021-07-16    146.170990\n",
            "2021-07-19    142.236893\n",
            "2021-07-20    145.931351\n",
            "2021-07-21    145.182480\n",
            "2021-07-22    146.580383\n",
            "2021-07-23    148.337753\n",
            "2021-07-26    148.767120\n",
            "2021-07-27    146.550430\n",
            "2021-07-28    144.763107\n",
            "2021-07-29    145.422119\n",
            "2021-07-30    145.641785\n",
            "Name: Close, dtype: float64\n"
          ]
        }
      ]
    },
    {
      "cell_type": "code",
      "metadata": {
        "colab": {
          "base_uri": "https://localhost:8080/"
        },
        "id": "vpvxGwXtHW92",
        "outputId": "9e1156f2-e772-4cb8-f292-7137fb977b5a"
      },
      "source": [
        "aapl['2021-7':'2021-10'] #Gets data in the range July-October"
      ],
      "execution_count": null,
      "outputs": [
        {
          "output_type": "execute_result",
          "data": {
            "text/plain": [
              "Date\n",
              "2021-07-01    137.064651\n",
              "2021-07-02    139.750626\n",
              "2021-07-06    141.807541\n",
              "2021-07-07    144.353729\n",
              "2021-07-08    143.025711\n",
              "                 ...    \n",
              "2021-10-25    148.639999\n",
              "2021-10-26    149.320007\n",
              "2021-10-27    148.850006\n",
              "2021-10-28    152.570007\n",
              "2021-10-29    149.800003\n",
              "Name: Close, Length: 85, dtype: float64"
            ]
          },
          "metadata": {},
          "execution_count": 44
        }
      ]
    },
    {
      "cell_type": "markdown",
      "metadata": {
        "id": "lWwoD39pKNKb"
      },
      "source": [
        ".head(N) and .tail(N) are methods for quickly accessing the first or last N elements."
      ]
    },
    {
      "cell_type": "code",
      "metadata": {
        "colab": {
          "base_uri": "https://localhost:8080/"
        },
        "id": "1eU218ALHW93",
        "outputId": "53750589-15be-45e9-fb5e-284d38900997"
      },
      "source": [
        "print(aapl.head(2))#Gets the first 2 elements\n",
        "print(aapl.tail(2))#Gets the last 2 elements"
      ],
      "execution_count": null,
      "outputs": [
        {
          "output_type": "stream",
          "name": "stdout",
          "text": [
            "Date\n",
            "2021-01-04    128.804825\n",
            "2021-01-05    130.397324\n",
            "Name: Close, dtype: float64\n",
            "Date\n",
            "2021-10-28    152.570007\n",
            "2021-10-29    149.800003\n",
            "Name: Close, dtype: float64\n"
          ]
        }
      ]
    },
    {
      "cell_type": "markdown",
      "metadata": {
        "id": "IxhKxtj-KQ66"
      },
      "source": [
        "# Resampling\n",
        "**_series.resample(freq)_** is a class called \"DatetimeIndexResampler\" which groups data in a Series object into regular time intervals. The argument \"freq\" determines the length of each interval.\n",
        "\n",
        "**_series.resample.mean()_** is a complete statement that groups data into intervals, and then compute the mean of each interval. For example, if we want to aggregate the daily data into monthly data by mean:"
      ]
    },
    {
      "cell_type": "code",
      "metadata": {
        "colab": {
          "base_uri": "https://localhost:8080/"
        },
        "id": "rAV8NkHkHW93",
        "outputId": "837238c3-af28-47c8-e19c-82b491e4acf5"
      },
      "source": [
        "by_month = aapl.resample('M').mean()#Resamples the series showing one value per month obtained from all the month's day's mean\n",
        "print(by_month)"
      ],
      "execution_count": null,
      "outputs": [
        {
          "output_type": "stream",
          "name": "stdout",
          "text": [
            "Date\n",
            "2021-01-31    132.414696\n",
            "2021-02-28    131.069792\n",
            "2021-03-31    121.482635\n",
            "2021-04-30    131.392483\n",
            "2021-05-31    126.550456\n",
            "2021-06-30    129.764216\n",
            "2021-07-31    144.922394\n",
            "2021-08-31    148.137819\n",
            "2021-09-30    148.306190\n",
            "2021-10-31    145.563809\n",
            "Freq: M, Name: Close, dtype: float64\n"
          ]
        }
      ]
    },
    {
      "cell_type": "markdown",
      "metadata": {
        "id": "QDPfVzBEKV6Q"
      },
      "source": [
        "We can also aggregate the data by week:"
      ]
    },
    {
      "cell_type": "code",
      "metadata": {
        "colab": {
          "base_uri": "https://localhost:8080/"
        },
        "id": "aAP3tKkBHW94",
        "outputId": "f63cd131-5cbb-4bd1-c01d-1d5d9df7e2a3"
      },
      "source": [
        "by_week = aapl.resample('W').mean() #The same but with weeks\n",
        "print(by_week.head())"
      ],
      "execution_count": null,
      "outputs": [
        {
          "output_type": "stream",
          "name": "stdout",
          "text": [
            "Date\n",
            "2021-01-10    129.390065\n",
            "2021-01-17    128.340997\n",
            "2021-01-24    133.323589\n",
            "2021-01-31    138.785910\n",
            "2021-02-07    134.851273\n",
            "Freq: W-SUN, Name: Close, dtype: float64\n"
          ]
        }
      ]
    },
    {
      "cell_type": "markdown",
      "metadata": {
        "id": "o_MXSVsILoBS"
      },
      "source": [
        "We can also aggregate the data by month with max:"
      ]
    },
    {
      "cell_type": "code",
      "metadata": {
        "colab": {
          "base_uri": "https://localhost:8080/"
        },
        "id": "gn0wqXBTHW95",
        "outputId": "d39e441c-121c-4cbe-b3c4-7fd696d48b50"
      },
      "source": [
        "aapl.resample('M').max() #Now getting the max value instead of the mean"
      ],
      "execution_count": null,
      "outputs": [
        {
          "output_type": "execute_result",
          "data": {
            "text/plain": [
              "Date\n",
              "2021-01-31    142.490524\n",
              "2021-02-28    136.747498\n",
              "2021-03-31    127.382462\n",
              "2021-04-30    134.409958\n",
              "2021-05-31    132.117294\n",
              "2021-06-30    136.755112\n",
              "2021-07-31    148.926865\n",
              "2021-08-31    153.119995\n",
              "2021-09-30    156.690002\n",
              "2021-10-31    152.570007\n",
              "Freq: M, Name: Close, dtype: float64"
            ]
          },
          "metadata": {},
          "execution_count": 49
        }
      ]
    },
    {
      "cell_type": "markdown",
      "metadata": {
        "id": "Z8r46UFlLdAh"
      },
      "source": [
        "We can choose almost any frequency by using the format 'nf', where 'n' is an integer and 'f' is M for month, W for week and D for day."
      ]
    },
    {
      "cell_type": "code",
      "metadata": {
        "colab": {
          "base_uri": "https://localhost:8080/"
        },
        "id": "kdVB_-JFHW96",
        "outputId": "5f6d7d48-b000-45e5-c142-17241ea0cac9"
      },
      "source": [
        "three_day = aapl.resample('3D').mean() #Frequency of 3 days\n",
        "two_week = aapl.resample('2W').mean()#Frequency of 2 weeks\n",
        "two_month = aapl.resample('2M').mean()#Frequency of 2 months\n",
        "\n",
        "\n",
        "print(three_day)\n",
        "print(two_week)\n",
        "print(two_month )"
      ],
      "execution_count": null,
      "outputs": [
        {
          "output_type": "stream",
          "name": "stdout",
          "text": [
            "Date\n",
            "2021-01-04    128.403369\n",
            "2021-01-07    130.870110\n",
            "2021-01-10    128.287247\n",
            "2021-01-13    128.376826\n",
            "2021-01-16           NaN\n",
            "                 ...    \n",
            "2021-10-16    146.550003\n",
            "2021-10-19    149.166662\n",
            "2021-10-22    148.690002\n",
            "2021-10-25    148.936671\n",
            "2021-10-28    151.185005\n",
            "Freq: 3D, Name: Close, Length: 100, dtype: float64\n",
            "Date\n",
            "2021-01-10    129.390065\n",
            "2021-01-24    130.555479\n",
            "2021-02-07    136.818594\n",
            "2021-02-21    133.176139\n",
            "2021-03-07    123.203824\n",
            "2021-03-21    121.138432\n",
            "2021-04-04    121.196689\n",
            "2021-04-18    130.555305\n",
            "2021-05-02    133.108136\n",
            "2021-05-16    127.360305\n",
            "2021-05-30    125.740607\n",
            "2021-06-13    125.589611\n",
            "2021-06-27    131.704672\n",
            "2021-07-11    139.817190\n",
            "2021-07-25    146.133054\n",
            "2021-08-08    146.329657\n",
            "2021-08-22    147.810001\n",
            "2021-09-05    150.923999\n",
            "2021-09-19    150.710000\n",
            "2021-10-03    144.023000\n",
            "2021-10-17    142.226997\n",
            "2021-10-31    149.192001\n",
            "Freq: 2W-SUN, Name: Close, dtype: float64\n",
            "Date\n",
            "2021-01-31    132.414695\n",
            "2021-03-31    125.819683\n",
            "2021-05-31    129.030518\n",
            "2021-07-31    137.167047\n",
            "2021-09-30    148.220047\n",
            "2021-11-30    145.563809\n",
            "Freq: 2M, Name: Close, dtype: float64\n"
          ]
        }
      ]
    },
    {
      "cell_type": "markdown",
      "metadata": {
        "id": "iy4RqsnwL-Bw"
      },
      "source": [
        "Besides the mean() method, other methods can also be used with the resampler:\n",
        "\n"
      ]
    },
    {
      "cell_type": "code",
      "metadata": {
        "colab": {
          "base_uri": "https://localhost:8080/"
        },
        "id": "DNT8Fx9dHW96",
        "outputId": "c057a287-201f-40e0-c39a-45f25410f90a"
      },
      "source": [
        "std = aapl.resample('W').std()#Resamples weekly displaying the standard deviation\n",
        "max = aapl.resample('W').max()#Resamples weekly displaying the maximum value\n",
        "min = aapl.resample('W').min()#Resamples weekly displaying the minimum value\n",
        "\n",
        "\n",
        "print(std)\n",
        "print(max)\n",
        "print(min)"
      ],
      "execution_count": null,
      "outputs": [
        {
          "output_type": "stream",
          "name": "stdout",
          "text": [
            "Date\n",
            "2021-01-10    2.110052\n",
            "2021-01-17    1.322745\n",
            "2021-01-24    5.005777\n",
            "2021-01-31    4.832351\n",
            "2021-02-07    1.593965\n",
            "2021-02-14    0.717237\n",
            "2021-02-21    1.599535\n",
            "2021-02-28    2.531167\n",
            "2021-03-07    3.096274\n",
            "2021-03-14    2.189884\n",
            "2021-03-21    2.533473\n",
            "2021-03-28    1.367989\n",
            "2021-04-04    1.311883\n",
            "2021-04-11    2.987202\n",
            "2021-04-18    1.520672\n",
            "2021-04-25    1.119452\n",
            "2021-05-02    1.265350\n",
            "2021-05-09    1.903037\n",
            "2021-05-16    1.833443\n",
            "2021-05-23    1.086028\n",
            "2021-05-30    1.125641\n",
            "2021-06-06    1.009669\n",
            "2021-06-13    0.628047\n",
            "2021-06-20    0.793811\n",
            "2021-06-27    0.645288\n",
            "2021-07-04    1.881023\n",
            "2021-07-11    1.385260\n",
            "2021-07-18    1.942819\n",
            "2021-07-25    2.238113\n",
            "2021-08-01    1.556446\n",
            "2021-08-08    0.727570\n",
            "2021-08-15    1.732880\n",
            "2021-08-22    2.099730\n",
            "2021-08-29    0.910486\n",
            "2021-09-05    0.962066\n",
            "2021-09-12    3.338543\n",
            "2021-09-19    1.358769\n",
            "2021-09-26    1.889321\n",
            "2021-10-03    1.508049\n",
            "2021-10-10    1.655223\n",
            "2021-10-17    1.605747\n",
            "2021-10-24    1.165402\n",
            "2021-10-31    1.592556\n",
            "Freq: W-SUN, Name: Close, dtype: float64\n",
            "Date\n",
            "2021-01-10    131.432465\n",
            "2021-01-17    130.277893\n",
            "2021-01-24    138.419632\n",
            "2021-01-31    142.490524\n",
            "2021-02-07    136.747498\n",
            "2021-02-14    136.473373\n",
            "2021-02-21    132.765244\n",
            "2021-02-28    125.598167\n",
            "2021-03-07    127.382462\n",
            "2021-03-14    121.571045\n",
            "2021-03-21    125.169533\n",
            "2021-03-28    122.996490\n",
            "2021-04-04    122.607727\n",
            "2021-04-11    132.575836\n",
            "2021-04-18    134.071060\n",
            "2021-04-25    134.409958\n",
            "2021-05-02    134.290359\n",
            "2021-05-09    132.117294\n",
            "2021-05-16    127.259331\n",
            "2021-05-23    127.119537\n",
            "2021-05-30    126.909851\n",
            "2021-06-06    125.701668\n",
            "2021-06-13    127.159477\n",
            "2021-06-20    131.592834\n",
            "2021-06-27    133.779556\n",
            "2021-07-04    139.750626\n",
            "2021-07-11    144.892914\n",
            "2021-07-18    148.926865\n",
            "2021-07-25    148.337753\n",
            "2021-08-01    148.767120\n",
            "2021-08-08    147.139542\n",
            "2021-08-15    149.100006\n",
            "2021-08-22    151.119995\n",
            "2021-08-29    149.710007\n",
            "2021-09-05    154.300003\n",
            "2021-09-12    156.690002\n",
            "2021-09-19    149.550003\n",
            "2021-09-26    146.919998\n",
            "2021-10-03    145.369995\n",
            "2021-10-10    143.289993\n",
            "2021-10-17    144.839996\n",
            "2021-10-24    149.479996\n",
            "2021-10-31    152.570007\n",
            "Freq: W-SUN, Name: Close, dtype: float64\n",
            "Date\n",
            "2021-01-10    126.007957\n",
            "2021-01-17    126.545425\n",
            "2021-01-24    127.232208\n",
            "2021-01-31    131.342880\n",
            "2021-02-07    133.313614\n",
            "2021-02-14    134.699051\n",
            "2021-02-21    129.296326\n",
            "2021-02-28    120.604141\n",
            "2021-03-07    119.746880\n",
            "2021-03-14    115.988907\n",
            "2021-03-21    119.607330\n",
            "2021-03-28    119.707008\n",
            "2021-04-04    119.517616\n",
            "2021-04-11    125.498489\n",
            "2021-04-18    130.821457\n",
            "2021-04-25    131.519226\n",
            "2021-05-02    131.040756\n",
            "2021-05-09    127.442261\n",
            "2021-05-16    122.586334\n",
            "2021-05-23    124.503464\n",
            "2021-05-30    124.423584\n",
            "2021-06-06    123.355186\n",
            "2021-06-13    125.711655\n",
            "2021-06-20    129.446060\n",
            "2021-06-27    132.102081\n",
            "2021-07-04    134.578369\n",
            "2021-07-11    141.807541\n",
            "2021-07-18    144.283829\n",
            "2021-07-25    142.236893\n",
            "2021-08-01    144.763107\n",
            "2021-08-08    145.302307\n",
            "2021-08-15    145.600006\n",
            "2021-08-22    146.360001\n",
            "2021-08-29    147.539993\n",
            "2021-09-05    151.830002\n",
            "2021-09-12    148.970001\n",
            "2021-09-19    146.059998\n",
            "2021-09-26    142.940002\n",
            "2021-10-03    141.500000\n",
            "2021-10-10    139.139999\n",
            "2021-10-17    140.910004\n",
            "2021-10-24    146.550003\n",
            "2021-10-31    148.639999\n",
            "Freq: W-SUN, Name: Close, dtype: float64\n"
          ]
        }
      ]
    },
    {
      "cell_type": "markdown",
      "metadata": {
        "id": "uqln0s5DMI3I"
      },
      "source": [
        "Often we want to calculate monthly returns of a stock, based on prices on the last day of each month. To fetch those prices, we use the series.resample.agg() method:"
      ]
    },
    {
      "cell_type": "code",
      "metadata": {
        "colab": {
          "base_uri": "https://localhost:8080/"
        },
        "id": "A6FSYvqbHW97",
        "outputId": "53099b64-d935-4dea-a7ef-b48e4114df4c"
      },
      "source": [
        "last_day = aapl.resample('M').agg(lambda x: x[-1])#Fetches the value of the last dat of each month\n",
        "print(last_day)"
      ],
      "execution_count": null,
      "outputs": [
        {
          "output_type": "stream",
          "name": "stdout",
          "text": [
            "Date\n",
            "2021-01-31    131.342880\n",
            "2021-02-28    120.873283\n",
            "2021-03-31    121.760445\n",
            "2021-04-30    131.040756\n",
            "2021-05-31    124.423584\n",
            "2021-06-30    136.755112\n",
            "2021-07-31    145.641785\n",
            "2021-08-31    151.830002\n",
            "2021-09-30    141.500000\n",
            "2021-10-31    149.800003\n",
            "Freq: M, Name: Close, dtype: float64\n"
          ]
        }
      ]
    },
    {
      "cell_type": "markdown",
      "metadata": {
        "id": "uwomY3aXMR46"
      },
      "source": [
        "Or directly calculate the monthly rates of return using the data for the first day and the last day:"
      ]
    },
    {
      "cell_type": "code",
      "metadata": {
        "colab": {
          "base_uri": "https://localhost:8080/"
        },
        "id": "qK2NMJrNHW96",
        "outputId": "e5e88e85-fcfa-4c99-c11b-181f93ff07db"
      },
      "source": [
        "monthly_return = aapl.resample('M').agg(lambda x: x[-1]/x[0] - 1)#Fetches the value of the last dat of each month divided by the first and substracting one\n",
        "print(monthly_return)"
      ],
      "execution_count": null,
      "outputs": [
        {
          "output_type": "stream",
          "name": "stdout",
          "text": [
            "Date\n",
            "2021-01-31    0.019705\n",
            "2021-02-28   -0.094668\n",
            "2021-03-31   -0.044135\n",
            "2021-04-30    0.068781\n",
            "2021-05-31   -0.058234\n",
            "2021-06-30    0.102028\n",
            "2021-07-31    0.062577\n",
            "2021-08-31    0.044925\n",
            "2021-09-30   -0.072192\n",
            "2021-10-31    0.050123\n",
            "Freq: M, Name: Close, dtype: float64\n"
          ]
        }
      ]
    },
    {
      "cell_type": "markdown",
      "metadata": {
        "id": "_DYbMTFWMj8J"
      },
      "source": [
        "Series object also provides us some convenient methods to do some quick calculation."
      ]
    },
    {
      "cell_type": "code",
      "metadata": {
        "colab": {
          "base_uri": "https://localhost:8080/"
        },
        "id": "1Mxc0HwvHW98",
        "outputId": "6328ff5a-663c-44ec-a10f-5f9952b7ed3c"
      },
      "source": [
        "print(monthly_return.mean())#Calculates the mean of the fetched data\n",
        "print(monthly_return.std())#Calculates the standard deviation of the fetched data\n",
        "print(monthly_return.max())#Calculates the maximum value of the fetched data"
      ],
      "execution_count": null,
      "outputs": [
        {
          "output_type": "stream",
          "name": "stdout",
          "text": [
            "0.007890887643666822\n",
            "0.06901315274581275\n",
            "0.10202776986384099\n"
          ]
        }
      ]
    },
    {
      "cell_type": "markdown",
      "metadata": {
        "id": "mn59J5dqMpqX"
      },
      "source": [
        "Another two methods frequently used on Series are .diff() and .pct_change(). The former calculates the difference between consecutive elements, and the latter calculates the percentage change."
      ]
    },
    {
      "cell_type": "code",
      "metadata": {
        "colab": {
          "base_uri": "https://localhost:8080/"
        },
        "id": "DupZTSqqHW99",
        "outputId": "cc77179a-628f-4947-a4a4-16149db0c2d7"
      },
      "source": [
        "print(last_day.diff())#Calculates the difference between consecutive elements\n",
        "print(last_day.pct_change())#Calculates the percentage change "
      ],
      "execution_count": null,
      "outputs": [
        {
          "output_type": "stream",
          "name": "stdout",
          "text": [
            "Date\n",
            "2021-01-31          NaN\n",
            "2021-02-28   -10.469597\n",
            "2021-03-31     0.887161\n",
            "2021-04-30     9.280312\n",
            "2021-05-31    -6.617172\n",
            "2021-06-30    12.331528\n",
            "2021-07-31     8.886673\n",
            "2021-08-31     6.188217\n",
            "2021-09-30   -10.330002\n",
            "2021-10-31     8.300003\n",
            "Freq: M, Name: Close, dtype: float64\n",
            "Date\n",
            "2021-01-31         NaN\n",
            "2021-02-28   -0.079712\n",
            "2021-03-31    0.007340\n",
            "2021-04-30    0.076218\n",
            "2021-05-31   -0.050497\n",
            "2021-06-30    0.099109\n",
            "2021-07-31    0.064982\n",
            "2021-08-31    0.042489\n",
            "2021-09-30   -0.068037\n",
            "2021-10-31    0.058657\n",
            "Freq: M, Name: Close, dtype: float64\n"
          ]
        }
      ]
    },
    {
      "cell_type": "markdown",
      "metadata": {
        "id": "RaMAOFepM6Io"
      },
      "source": [
        "Notice that we induced a NaN value while calculating percentage changes i.e. returns.\n",
        "\n",
        "When dealing with NaN values, we usually either removing the data point or fill it with a specific value. Here we fill it with 0:"
      ]
    },
    {
      "cell_type": "code",
      "metadata": {
        "colab": {
          "base_uri": "https://localhost:8080/"
        },
        "id": "-xyLb3A3HW99",
        "outputId": "b05fdf66-1111-48e4-c5be-51321d8e33f0"
      },
      "source": [
        "daily_return = last_day.pct_change()\n",
        "print(daily_return.fillna(0))#Fills the NaN values with 0"
      ],
      "execution_count": null,
      "outputs": [
        {
          "output_type": "stream",
          "name": "stdout",
          "text": [
            "Date\n",
            "2021-01-31    0.000000\n",
            "2021-02-28   -0.079712\n",
            "2021-03-31    0.007340\n",
            "2021-04-30    0.076218\n",
            "2021-05-31   -0.050497\n",
            "2021-06-30    0.099109\n",
            "2021-07-31    0.064982\n",
            "2021-08-31    0.042489\n",
            "2021-09-30   -0.068037\n",
            "2021-10-31    0.058657\n",
            "Freq: M, Name: Close, dtype: float64\n"
          ]
        }
      ]
    },
    {
      "cell_type": "markdown",
      "metadata": {
        "id": "BYS10Om1NQVC"
      },
      "source": [
        "Alternatively, we can fill a NaN with the next fitted value. This is called 'backward fill', or 'bfill' in short:"
      ]
    },
    {
      "cell_type": "code",
      "metadata": {
        "colab": {
          "base_uri": "https://localhost:8080/"
        },
        "id": "J513kHeKHW9-",
        "outputId": "b5e8a1ec-cbf2-4d5b-c8fe-17d8b4c561da"
      },
      "source": [
        "daily_return = last_day.pct_change()\n",
        "print(daily_return.fillna(method = 'bfill'))#Fills the NaN values with the next value"
      ],
      "execution_count": null,
      "outputs": [
        {
          "output_type": "stream",
          "name": "stdout",
          "text": [
            "Date\n",
            "2021-01-31   -0.079712\n",
            "2021-02-28   -0.079712\n",
            "2021-03-31    0.007340\n",
            "2021-04-30    0.076218\n",
            "2021-05-31   -0.050497\n",
            "2021-06-30    0.099109\n",
            "2021-07-31    0.064982\n",
            "2021-08-31    0.042489\n",
            "2021-09-30   -0.068037\n",
            "2021-10-31    0.058657\n",
            "Freq: M, Name: Close, dtype: float64\n"
          ]
        }
      ]
    },
    {
      "cell_type": "markdown",
      "metadata": {
        "id": "bj8QUSgdNepf"
      },
      "source": [
        "As expected, since there is a 'backward fill' method, there must be a 'forward fill' method, or 'ffill' in short. However we can't use it here because the NaN is the first value.\n",
        "\n",
        "We can also simply remove NaN values by **_.dropna()_**"
      ]
    },
    {
      "cell_type": "code",
      "metadata": {
        "colab": {
          "base_uri": "https://localhost:8080/"
        },
        "id": "WG5ux1lqHW9-",
        "outputId": "6ec75221-1110-4b3b-9213-505fccdf863c"
      },
      "source": [
        "daily_return = last_day.pct_change()\n",
        "daily_return.dropna()#Drops rows with NaN values"
      ],
      "execution_count": null,
      "outputs": [
        {
          "output_type": "execute_result",
          "data": {
            "text/plain": [
              "Date\n",
              "2021-02-28   -0.079712\n",
              "2021-03-31    0.007340\n",
              "2021-04-30    0.076218\n",
              "2021-05-31   -0.050497\n",
              "2021-06-30    0.099109\n",
              "2021-07-31    0.064982\n",
              "2021-08-31    0.042489\n",
              "2021-09-30   -0.068037\n",
              "2021-10-31    0.058657\n",
              "Freq: M, Name: Close, dtype: float64"
            ]
          },
          "metadata": {},
          "execution_count": 14
        }
      ]
    },
    {
      "cell_type": "markdown",
      "metadata": {
        "id": "nQH2eBWkNjdC"
      },
      "source": [
        "# DataFrame\n",
        "The **DataFrame** is the most commonly used data structure in Pandas. It is essentially a table, just like an Excel spreadsheet.\n",
        "\n",
        "More precisely, a DataFrame is a collection of Series objects, each of which may contain different data types. A DataFrame can be created from various data types: dictionary, 2-D numpy.ndarray, a Series or another DataFrame.\n",
        "\n",
        "## Create DataFrames\n",
        "The most common method of creating a DataFrame is passing a dictionary:"
      ]
    },
    {
      "cell_type": "code",
      "metadata": {
        "colab": {
          "base_uri": "https://localhost:8080/"
        },
        "id": "vd5Wf1ohHW9-",
        "outputId": "dcf5f02b-42c0-40ae-9a84-8bcfc3156605"
      },
      "source": [
        "import pandas as pd\n",
        "\n",
        "dict = {'AAPL': [143.5, 144.09, 142.73, 144.18, 143.77],'GOOG':[898.7, 911.71, 906.69, 918.59, 926.99],\n",
        "        'IBM':[155.58, 153.67, 152.36, 152.94, 153.49]} #Creates a dictionary where each key has associated a list\n",
        "data_index = pd.date_range('2021-04-03',periods = 5, freq = 'D')#Creates a date range as seen before\n",
        "df = pd.DataFrame(dict, index = data_index)#Creates a dataframe with the dictionary indexing it by the date range\n",
        "print(df)"
      ],
      "execution_count": null,
      "outputs": [
        {
          "output_type": "stream",
          "name": "stdout",
          "text": [
            "              AAPL    GOOG     IBM\n",
            "2021-04-03  143.50  898.70  155.58\n",
            "2021-04-04  144.09  911.71  153.67\n",
            "2021-04-05  142.73  906.69  152.36\n",
            "2021-04-06  144.18  918.59  152.94\n",
            "2021-04-07  143.77  926.99  153.49\n"
          ]
        }
      ]
    },
    {
      "cell_type": "markdown",
      "metadata": {
        "id": "0uYmLQTgOPnX"
      },
      "source": [
        "## Manipulating DataFrames\n",
        "We can fetch values in a DataFrame by columns and index. Each column in a DataFrame is essentially a Pandas Series. We can fetch a column by square brackets: **df['column_name']**\n",
        "\n",
        "If a column name contains no spaces, then we can also use df.column_name to fetch a column:"
      ]
    },
    {
      "cell_type": "code",
      "metadata": {
        "colab": {
          "base_uri": "https://localhost:8080/"
        },
        "id": "2pB2f7lBHW9_",
        "outputId": "278b2396-3d60-4178-befd-117239fb6981"
      },
      "source": [
        "df = aapl_table\n",
        "print(df.Close.tail(5))#Gets the last five values of the column Close\n",
        "print(df['Volume'].tail(5))#Gets the last five values of the column Volume"
      ],
      "execution_count": null,
      "outputs": [
        {
          "output_type": "stream",
          "name": "stdout",
          "text": [
            "Date\n",
            "2021-10-25    148.639999\n",
            "2021-10-26    149.320007\n",
            "2021-10-27    148.850006\n",
            "2021-10-28    152.570007\n",
            "2021-10-29    149.800003\n",
            "Name: Close, dtype: float64\n",
            "Date\n",
            "2021-10-25     50720600\n",
            "2021-10-26     60893400\n",
            "2021-10-27     56094900\n",
            "2021-10-28    100077900\n",
            "2021-10-29    124850400\n",
            "Name: Volume, dtype: int64\n"
          ]
        }
      ]
    },
    {
      "cell_type": "markdown",
      "metadata": {
        "id": "z0ugOel9O4-P"
      },
      "source": [
        "All the methods we applied to a Series index such as iloc[], loc[] and resampling methods, can also be applied to a DataFrame:"
      ]
    },
    {
      "cell_type": "code",
      "metadata": {
        "colab": {
          "base_uri": "https://localhost:8080/"
        },
        "id": "_8dfjkedHW9_",
        "outputId": "2ed57295-1b68-4c9c-9558-11677c290d93"
      },
      "source": [
        "aapl_2021 = df['2021']\n",
        "aapl_month = aapl_2021.resample('M').agg(lambda x: x[-1])#Fetches resampled data same as with series\n",
        "print(aapl_month)"
      ],
      "execution_count": null,
      "outputs": [
        {
          "output_type": "stream",
          "name": "stdout",
          "text": [
            "                  Open        High  ...  Dividends  Stock Splits\n",
            "Date                                ...                         \n",
            "2021-01-31  135.194777  136.100525  ...        0.0           0.0\n",
            "2021-02-28  122.199036  124.451831  ...        0.0           0.0\n",
            "2021-03-31  121.262039  123.126071  ...        0.0           0.0\n",
            "2021-04-30  131.359728  133.134050  ...        0.0           0.0\n",
            "2021-05-31  125.382147  125.611806  ...        0.0           0.0\n",
            "2021-06-30  135.966285  137.204435  ...        0.0           0.0\n",
            "2021-07-31  144.164003  146.111083  ...        0.0           0.0\n",
            "2021-08-31  152.660004  152.800003  ...        0.0           0.0\n",
            "2021-09-30  143.660004  144.380005  ...        0.0           0.0\n",
            "2021-10-31  147.220001  149.940002  ...        0.0           0.0\n",
            "\n",
            "[10 rows x 7 columns]\n"
          ]
        }
      ]
    },
    {
      "cell_type": "markdown",
      "metadata": {
        "id": "CqrbrbFZPTJe"
      },
      "source": [
        "We may select certain columns of a DataFrame using their names:"
      ]
    },
    {
      "cell_type": "code",
      "metadata": {
        "colab": {
          "base_uri": "https://localhost:8080/"
        },
        "id": "7bQGeyCAHW9_",
        "outputId": "490cbdb6-548e-4ee4-e0e9-76f084c056bf"
      },
      "source": [
        "aapl_bar = aapl_month[['Open', 'High', 'Low', 'Close']] #Selects the columns of the dataframe\n",
        "print(aapl_bar)"
      ],
      "execution_count": null,
      "outputs": [
        {
          "output_type": "stream",
          "name": "stdout",
          "text": [
            "                  Open        High         Low       Close\n",
            "Date                                                      \n",
            "2021-01-31  135.194777  136.100525  129.601064  131.342880\n",
            "2021-02-28  122.199036  124.451831  120.813470  120.873283\n",
            "2021-03-31  121.262039  123.126071  120.763634  121.760445\n",
            "2021-04-30  131.359728  133.134050  130.652001  131.040756\n",
            "2021-05-31  125.382147  125.611806  124.363676  124.423584\n",
            "2021-06-30  135.966285  137.204435  135.666731  136.755112\n",
            "2021-07-31  144.164003  146.111083  143.894403  145.641785\n",
            "2021-08-31  152.660004  152.800003  151.289993  151.830002\n",
            "2021-09-30  143.660004  144.380005  141.279999  141.500000\n",
            "2021-10-31  147.220001  149.940002  146.410004  149.800003\n"
          ]
        }
      ]
    },
    {
      "cell_type": "markdown",
      "metadata": {
        "id": "8CQaZCAQP68O"
      },
      "source": [
        "We can even specify both rows and columns using loc[]. The row indices and column names are separated by a comma:"
      ]
    },
    {
      "cell_type": "code",
      "metadata": {
        "colab": {
          "base_uri": "https://localhost:8080/"
        },
        "id": "YjWWiHVpHW-A",
        "outputId": "42c35c87-e581-4936-bca8-5777d18c499e"
      },
      "source": [
        "print(aapl_month.loc['2021-03':'2021-10',['Open', 'High', 'Low', 'Close']])#Uses loc to show the selected columns in the specified range"
      ],
      "execution_count": null,
      "outputs": [
        {
          "output_type": "stream",
          "name": "stdout",
          "text": [
            "                  Open        High         Low       Close\n",
            "Date                                                      \n",
            "2021-03-31  121.262039  123.126071  120.763634  121.760445\n",
            "2021-04-30  131.359728  133.134050  130.652001  131.040756\n",
            "2021-05-31  125.382147  125.611806  124.363676  124.423584\n",
            "2021-06-30  135.966285  137.204435  135.666731  136.755112\n",
            "2021-07-31  144.164003  146.111083  143.894403  145.641785\n",
            "2021-08-31  152.660004  152.800003  151.289993  151.830002\n",
            "2021-09-30  143.660004  144.380005  141.279999  141.500000\n",
            "2021-10-31  147.220001  149.940002  146.410004  149.800003\n"
          ]
        }
      ]
    },
    {
      "cell_type": "markdown",
      "metadata": {
        "id": "Xcn_pHNLQBEH"
      },
      "source": [
        "The subset methods in DataFrame is quite useful. By writing logical statements in square brackets, we can make customized subsets:"
      ]
    },
    {
      "cell_type": "code",
      "metadata": {
        "colab": {
          "base_uri": "https://localhost:8080/"
        },
        "id": "RxKg4dObHW-A",
        "outputId": "b67fe0dc-7b3c-4468-9bc7-dbb234698cbf"
      },
      "source": [
        "import numpy as np\n",
        "\n",
        "above = aapl_bar[aapl_bar.Close > np.mean(aapl_bar.Close)]#Same as with series, logical statements can be inside indexing square brackets\n",
        "print(above)"
      ],
      "execution_count": null,
      "outputs": [
        {
          "output_type": "stream",
          "name": "stdout",
          "text": [
            "                  Open        High         Low       Close\n",
            "Date                                                      \n",
            "2021-06-30  135.966285  137.204435  135.666731  136.755112\n",
            "2021-07-31  144.164003  146.111083  143.894403  145.641785\n",
            "2021-08-31  152.660004  152.800003  151.289993  151.830002\n",
            "2021-09-30  143.660004  144.380005  141.279999  141.500000\n",
            "2021-10-31  147.220001  149.940002  146.410004  149.800003\n"
          ]
        }
      ]
    },
    {
      "cell_type": "markdown",
      "metadata": {
        "id": "wcm_UadkQLL5"
      },
      "source": [
        "## Data Validation\n",
        "As mentioned, all methods that apply to a Series can also be applied to a DataFrame. Here we add a new column to an existing DataFrame:"
      ]
    },
    {
      "cell_type": "code",
      "metadata": {
        "colab": {
          "base_uri": "https://localhost:8080/"
        },
        "id": "jZXFdOVFHW-A",
        "outputId": "48ba202a-9cc5-482d-a709-172463d66370"
      },
      "source": [
        "aapl_bar['rate_return'] = aapl_bar.Close.pct_change()#Gets percentage of change between consecutives in Close column\n",
        "print(aapl_bar)"
      ],
      "execution_count": null,
      "outputs": [
        {
          "output_type": "stream",
          "name": "stdout",
          "text": [
            "                  Open        High         Low       Close  rate_return\n",
            "Date                                                                   \n",
            "2021-01-31  135.194777  136.100525  129.601064  131.342880          NaN\n",
            "2021-02-28  122.199036  124.451831  120.813470  120.873283    -0.079712\n",
            "2021-03-31  121.262039  123.126071  120.763634  121.760445     0.007340\n",
            "2021-04-30  131.359728  133.134050  130.652001  131.040756     0.076218\n",
            "2021-05-31  125.382147  125.611806  124.363676  124.423584    -0.050497\n",
            "2021-06-30  135.966285  137.204435  135.666731  136.755112     0.099109\n",
            "2021-07-31  144.164003  146.111083  143.894403  145.641785     0.064982\n",
            "2021-08-31  152.660004  152.800003  151.289993  151.830002     0.042489\n",
            "2021-09-30  143.660004  144.380005  141.279999  141.500000    -0.068037\n",
            "2021-10-31  147.220001  149.940002  146.410004  149.800003     0.058657\n"
          ]
        },
        {
          "output_type": "stream",
          "name": "stderr",
          "text": [
            "/usr/local/lib/python3.7/dist-packages/ipykernel_launcher.py:1: SettingWithCopyWarning: \n",
            "A value is trying to be set on a copy of a slice from a DataFrame.\n",
            "Try using .loc[row_indexer,col_indexer] = value instead\n",
            "\n",
            "See the caveats in the documentation: https://pandas.pydata.org/pandas-docs/stable/user_guide/indexing.html#returning-a-view-versus-a-copy\n",
            "  \"\"\"Entry point for launching an IPython kernel.\n"
          ]
        }
      ]
    },
    {
      "cell_type": "markdown",
      "metadata": {
        "id": "_or6n5-LQUa-"
      },
      "source": [
        "Here the calculation introduced a NaN value. If the DataFrame is large, we would not be able to observe it. **isnull()** provides a convenient way to check abnormal values."
      ]
    },
    {
      "cell_type": "code",
      "metadata": {
        "colab": {
          "base_uri": "https://localhost:8080/"
        },
        "id": "V5wgmhIPHW-B",
        "outputId": "2b4da0a2-d58f-4acc-90fe-3ec3a27366f9"
      },
      "source": [
        "missing = aapl_bar.isnull() #Shows the NaN values\n",
        "print(missing)\n",
        "print('---------------------------------------------')\n",
        "print(missing.describe())#Shows differente statistical data about every column"
      ],
      "execution_count": null,
      "outputs": [
        {
          "output_type": "stream",
          "name": "stdout",
          "text": [
            "             Open   High    Low  Close  rate_return\n",
            "Date                                               \n",
            "2021-01-31  False  False  False  False         True\n",
            "2021-02-28  False  False  False  False        False\n",
            "2021-03-31  False  False  False  False        False\n",
            "2021-04-30  False  False  False  False        False\n",
            "2021-05-31  False  False  False  False        False\n",
            "2021-06-30  False  False  False  False        False\n",
            "2021-07-31  False  False  False  False        False\n",
            "2021-08-31  False  False  False  False        False\n",
            "2021-09-30  False  False  False  False        False\n",
            "2021-10-31  False  False  False  False        False\n",
            "---------------------------------------------\n",
            "         Open   High    Low  Close rate_return\n",
            "count      10     10     10     10          10\n",
            "unique      1      1      1      1           2\n",
            "top     False  False  False  False       False\n",
            "freq       10     10     10     10           9\n"
          ]
        }
      ]
    },
    {
      "cell_type": "markdown",
      "metadata": {
        "id": "d6KFV4i0QfLW"
      },
      "source": [
        "The row labelled \"unique\" indicates the number of unique values in each column. Since the \"rate_return\" column has 2 unique values, it has at least one missing value.\n",
        "\n",
        "We can deduce the number of missing values by comparing \"count\" with \"freq\". There are 12 counts and 11 False values, so there is one True value which corresponds to the missing value.\n",
        "\n",
        "We can also find the rows with missing values easily:"
      ]
    },
    {
      "cell_type": "code",
      "metadata": {
        "colab": {
          "base_uri": "https://localhost:8080/"
        },
        "id": "Eo0ZAhCsHW-B",
        "outputId": "e4206056-a89a-4435-c0bc-a11b012f6744"
      },
      "source": [
        "print(missing[missing.rate_return == True])#Prints in which columns there are NaN values "
      ],
      "execution_count": null,
      "outputs": [
        {
          "output_type": "stream",
          "name": "stdout",
          "text": [
            "             Open   High    Low  Close  rate_return\n",
            "Date                                               \n",
            "2021-01-31  False  False  False  False         True\n"
          ]
        }
      ]
    },
    {
      "cell_type": "markdown",
      "metadata": {
        "id": "qgggpD8OQkZX"
      },
      "source": [
        "Usually when dealing with missing data, we either delete the whole row or fill it with some value. As we introduced in the Series chapter, the same method **dropna()** and **fillna()** can be applied to a DataFrame."
      ]
    },
    {
      "cell_type": "code",
      "metadata": {
        "colab": {
          "base_uri": "https://localhost:8080/"
        },
        "id": "j8PaIokjHW-B",
        "outputId": "f982b59c-a9cd-4be6-e043-400a972e4ecb"
      },
      "source": [
        "drop = aapl_bar.dropna()#Drops the NaN value's row\n",
        "print(drop)\n",
        "print('\\n--------------------------------------------------\\n')\n",
        "fill = aapl_bar.fillna(0)#Fills with 0 the NaN values\n",
        "print(fill)"
      ],
      "execution_count": null,
      "outputs": [
        {
          "output_type": "stream",
          "name": "stdout",
          "text": [
            "                  Open        High         Low       Close  rate_return\n",
            "Date                                                                   \n",
            "2021-02-28  122.199036  124.451831  120.813470  120.873283    -0.079712\n",
            "2021-03-31  121.262039  123.126071  120.763634  121.760445     0.007340\n",
            "2021-04-30  131.359728  133.134050  130.652001  131.040756     0.076218\n",
            "2021-05-31  125.382147  125.611806  124.363676  124.423584    -0.050497\n",
            "2021-06-30  135.966285  137.204435  135.666731  136.755112     0.099109\n",
            "2021-07-31  144.164003  146.111083  143.894403  145.641785     0.064982\n",
            "2021-08-31  152.660004  152.800003  151.289993  151.830002     0.042489\n",
            "2021-09-30  143.660004  144.380005  141.279999  141.500000    -0.068037\n",
            "2021-10-31  147.220001  149.940002  146.410004  149.800003     0.058657\n",
            "\n",
            "--------------------------------------------------\n",
            "\n",
            "                  Open        High         Low       Close  rate_return\n",
            "Date                                                                   \n",
            "2021-01-31  135.194777  136.100525  129.601064  131.342880     0.000000\n",
            "2021-02-28  122.199036  124.451831  120.813470  120.873283    -0.079712\n",
            "2021-03-31  121.262039  123.126071  120.763634  121.760445     0.007340\n",
            "2021-04-30  131.359728  133.134050  130.652001  131.040756     0.076218\n",
            "2021-05-31  125.382147  125.611806  124.363676  124.423584    -0.050497\n",
            "2021-06-30  135.966285  137.204435  135.666731  136.755112     0.099109\n",
            "2021-07-31  144.164003  146.111083  143.894403  145.641785     0.064982\n",
            "2021-08-31  152.660004  152.800003  151.289993  151.830002     0.042489\n",
            "2021-09-30  143.660004  144.380005  141.279999  141.500000    -0.068037\n",
            "2021-10-31  147.220001  149.940002  146.410004  149.800003     0.058657\n"
          ]
        }
      ]
    },
    {
      "cell_type": "markdown",
      "metadata": {
        "id": "0tvoFlKWQxYG"
      },
      "source": [
        "## DataFrame Concat\n",
        "We have seen how to extract a Series from a dataFrame. Now we need to consider how to merge a Series or a DataFrame into another one.\n",
        "\n",
        "In Pandas, the function **concat()** allows us to merge multiple Series into a DataFrame:"
      ]
    },
    {
      "cell_type": "code",
      "metadata": {
        "colab": {
          "base_uri": "https://localhost:8080/"
        },
        "id": "uQrmLIWKHW-C",
        "outputId": "4b1588e3-dc9a-4ee2-d8af-32e1d17ce050"
      },
      "source": [
        "s1 = pd.Series([143.5, 144.09, 142.73, 144.18, 143.77], name = 'AAPL')\n",
        "s2 = pd.Series([898.7, 911.71, 906.69, 918.59, 926.99], name = 'GOOG')\n",
        "data_frame = pd.concat([s1,s2], axis = 1) #Merges the specified series into a dataframe\n",
        "print(data_frame)"
      ],
      "execution_count": null,
      "outputs": [
        {
          "output_type": "stream",
          "name": "stdout",
          "text": [
            "     AAPL    GOOG\n",
            "0  143.50  898.70\n",
            "1  144.09  911.71\n",
            "2  142.73  906.69\n",
            "3  144.18  918.59\n",
            "4  143.77  926.99\n"
          ]
        }
      ]
    },
    {
      "cell_type": "markdown",
      "metadata": {
        "id": "3ojbNYJLR2vv"
      },
      "source": [
        "The \"axis = 1\" parameter will join two DataFrames by columns:"
      ]
    },
    {
      "cell_type": "code",
      "metadata": {
        "colab": {
          "base_uri": "https://localhost:8080/"
        },
        "id": "DJsaLd-cRoIm",
        "outputId": "b9547da9-90fe-4b55-fd17-892df752ccbf"
      },
      "source": [
        "log_price = np.log(aapl_bar.Close)#Gets natural logarithm of Close column values\n",
        "log_price.name = 'log_price'\n",
        "print(log_price)\n",
        "print('\\n---------------------- separate line--------------------\\n')\n",
        "concat = pd.concat([aapl_bar, log_price], axis = 1)#Concats both dataframes\n",
        "print(concat)"
      ],
      "execution_count": null,
      "outputs": [
        {
          "output_type": "stream",
          "name": "stdout",
          "text": [
            "Date\n",
            "2021-01-31    4.877811\n",
            "2021-02-28    4.794743\n",
            "2021-03-31    4.802056\n",
            "2021-04-30    4.875508\n",
            "2021-05-31    4.823692\n",
            "2021-06-30    4.918192\n",
            "2021-07-31    4.981150\n",
            "2021-08-31    5.022761\n",
            "2021-09-30    4.952300\n",
            "2021-10-31    5.009301\n",
            "Freq: M, Name: log_price, dtype: float64\n",
            "\n",
            "---------------------- separate line--------------------\n",
            "\n",
            "                  Open        High  ...  rate_return  log_price\n",
            "Date                                ...                        \n",
            "2021-01-31  135.194777  136.100525  ...          NaN   4.877811\n",
            "2021-02-28  122.199036  124.451831  ...    -0.079712   4.794743\n",
            "2021-03-31  121.262039  123.126071  ...     0.007340   4.802056\n",
            "2021-04-30  131.359728  133.134050  ...     0.076218   4.875508\n",
            "2021-05-31  125.382147  125.611806  ...    -0.050497   4.823692\n",
            "2021-06-30  135.966285  137.204435  ...     0.099109   4.918192\n",
            "2021-07-31  144.164003  146.111083  ...     0.064982   4.981150\n",
            "2021-08-31  152.660004  152.800003  ...     0.042489   5.022761\n",
            "2021-09-30  143.660004  144.380005  ...    -0.068037   4.952300\n",
            "2021-10-31  147.220001  149.940002  ...     0.058657   5.009301\n",
            "\n",
            "[10 rows x 6 columns]\n"
          ]
        }
      ]
    },
    {
      "cell_type": "markdown",
      "metadata": {
        "id": "mIZz-FUyR_62"
      },
      "source": [
        "We can also join two DataFrames by rows. Consider these two DataFrames:"
      ]
    },
    {
      "cell_type": "code",
      "metadata": {
        "colab": {
          "base_uri": "https://localhost:8080/"
        },
        "id": "W7uXZptLHW-C",
        "outputId": "9ad0cce6-3304-45ea-876b-4734452575ce"
      },
      "source": [
        "df_volume = aapl_table.loc['2020-10':'2021-04',['Volume', 'Stock Splits']].resample('M').agg(lambda x: x[-1])#Gets the specified columns of the given range\n",
        "print(df_volume)\n",
        "print('\\n---------------------- separate line--------------------\\n')\n",
        "df_2021 = aapl_table.loc['2020-10':'2021-04',['Open', 'High', 'Low', 'Close']].resample('M').agg(lambda x: x[-1])\n",
        "print(df_2021)"
      ],
      "execution_count": null,
      "outputs": [
        {
          "output_type": "stream",
          "name": "stdout",
          "text": [
            "               Volume  Stock Splits\n",
            "Date                               \n",
            "2020-10-31  190272600           0.0\n",
            "2020-11-30  169410200           0.0\n",
            "2020-12-31   99116600           0.0\n",
            "2021-01-31  177523800           0.0\n",
            "2021-02-28  164560400           0.0\n",
            "2021-03-31  118323800           0.0\n",
            "2021-04-30  109839500           0.0\n",
            "\n",
            "---------------------- separate line--------------------\n",
            "\n",
            "                  Open        High         Low       Close\n",
            "Date                                                      \n",
            "2020-10-31  110.350244  111.274301  107.031593  108.164307\n",
            "2020-11-30  116.422996  120.404290  116.263741  118.493271\n",
            "2020-12-31  133.452972  134.109889  131.104008  132.069473\n",
            "2021-01-31  135.194777  136.100525  129.601064  131.342880\n",
            "2021-02-28  122.199036  124.451831  120.813470  120.873283\n",
            "2021-03-31  121.262039  123.126071  120.763634  121.760445\n",
            "2021-04-30  131.359728  133.134050  130.652001  131.040756\n"
          ]
        }
      ]
    },
    {
      "cell_type": "markdown",
      "metadata": {
        "id": "iZk_C9aSSLeP"
      },
      "source": [
        "Now we merge the DataFrames with our DataFrame 'aapl_bar'"
      ]
    },
    {
      "cell_type": "code",
      "metadata": {
        "colab": {
          "base_uri": "https://localhost:8080/"
        },
        "id": "aFqmjokOHW-C",
        "outputId": "75a343a8-7bd9-4b60-b085-6e302b23ccc8"
      },
      "source": [
        "concat = pd.concat([aapl_bar, df_volume], axis = 1) #Merges both dataframes by rows\n",
        "print(concat)"
      ],
      "execution_count": null,
      "outputs": [
        {
          "output_type": "stream",
          "name": "stdout",
          "text": [
            "                  Open        High  ...       Volume  Stock Splits\n",
            "Date                                ...                           \n",
            "2020-10-31         NaN         NaN  ...  190272600.0           0.0\n",
            "2020-11-30         NaN         NaN  ...  169410200.0           0.0\n",
            "2020-12-31         NaN         NaN  ...   99116600.0           0.0\n",
            "2021-01-31  135.194777  136.100525  ...  177523800.0           0.0\n",
            "2021-02-28  122.199036  124.451831  ...  164560400.0           0.0\n",
            "2021-03-31  121.262039  123.126071  ...  118323800.0           0.0\n",
            "2021-04-30  131.359728  133.134050  ...  109839500.0           0.0\n",
            "2021-05-31  125.382147  125.611806  ...          NaN           NaN\n",
            "2021-06-30  135.966285  137.204435  ...          NaN           NaN\n",
            "2021-07-31  144.164003  146.111083  ...          NaN           NaN\n",
            "2021-08-31  152.660004  152.800003  ...          NaN           NaN\n",
            "2021-09-30  143.660004  144.380005  ...          NaN           NaN\n",
            "2021-10-31  147.220001  149.940002  ...          NaN           NaN\n",
            "\n",
            "[13 rows x 7 columns]\n"
          ]
        }
      ]
    },
    {
      "cell_type": "markdown",
      "metadata": {
        "id": "7yI3tgB4SR4O"
      },
      "source": [
        "By default the DataFrame are joined with all of the data. This default options results in zero information loss. We can also merge them by intersection, this is called 'inner join"
      ]
    },
    {
      "cell_type": "code",
      "metadata": {
        "colab": {
          "base_uri": "https://localhost:8080/"
        },
        "id": "31QGLyijHW-C",
        "outputId": "565c01c6-c8fe-441e-9775-6e3b7f8c647b"
      },
      "source": [
        "concat = pd.concat([aapl_bar,df_volume],axis = 1, join = 'inner')#Merges dataframes with inner join\n",
        "print(concat)"
      ],
      "execution_count": null,
      "outputs": [
        {
          "output_type": "stream",
          "name": "stdout",
          "text": [
            "                  Open        High  ...     Volume  Stock Splits\n",
            "Date                                ...                         \n",
            "2021-01-31  135.194777  136.100525  ...  177523800           0.0\n",
            "2021-02-28  122.199036  124.451831  ...  164560400           0.0\n",
            "2021-03-31  121.262039  123.126071  ...  118323800           0.0\n",
            "2021-04-30  131.359728  133.134050  ...  109839500           0.0\n",
            "\n",
            "[4 rows x 7 columns]\n"
          ]
        }
      ]
    },
    {
      "cell_type": "markdown",
      "metadata": {
        "id": "oudcWMm5Sd0u"
      },
      "source": [
        "Only the intersection part was left if use 'inner join' method. Now let's try to append a DataFrame to another one:"
      ]
    },
    {
      "cell_type": "code",
      "metadata": {
        "colab": {
          "base_uri": "https://localhost:8080/"
        },
        "id": "lgw0qaOsHW-D",
        "outputId": "ccda58a4-058e-454e-9b65-298906dea831"
      },
      "source": [
        "append = aapl_bar.append(df_2021)#Append the given dataframe\n",
        "print(append)"
      ],
      "execution_count": null,
      "outputs": [
        {
          "output_type": "stream",
          "name": "stdout",
          "text": [
            "                  Open        High         Low       Close  rate_return\n",
            "Date                                                                   \n",
            "2021-01-31  135.194777  136.100525  129.601064  131.342880          NaN\n",
            "2021-02-28  122.199036  124.451831  120.813470  120.873283    -0.079712\n",
            "2021-03-31  121.262039  123.126071  120.763634  121.760445     0.007340\n",
            "2021-04-30  131.359728  133.134050  130.652001  131.040756     0.076218\n",
            "2021-05-31  125.382147  125.611806  124.363676  124.423584    -0.050497\n",
            "2021-06-30  135.966285  137.204435  135.666731  136.755112     0.099109\n",
            "2021-07-31  144.164003  146.111083  143.894403  145.641785     0.064982\n",
            "2021-08-31  152.660004  152.800003  151.289993  151.830002     0.042489\n",
            "2021-09-30  143.660004  144.380005  141.279999  141.500000    -0.068037\n",
            "2021-10-31  147.220001  149.940002  146.410004  149.800003     0.058657\n",
            "2020-10-31  110.350244  111.274301  107.031593  108.164307          NaN\n",
            "2020-11-30  116.422996  120.404290  116.263741  118.493271          NaN\n",
            "2020-12-31  133.452972  134.109889  131.104008  132.069473          NaN\n",
            "2021-01-31  135.194777  136.100525  129.601064  131.342880          NaN\n",
            "2021-02-28  122.199036  124.451831  120.813470  120.873283          NaN\n",
            "2021-03-31  121.262039  123.126071  120.763634  121.760445          NaN\n",
            "2021-04-30  131.359728  133.134050  130.652001  131.040756          NaN\n"
          ]
        }
      ]
    },
    {
      "cell_type": "markdown",
      "metadata": {
        "id": "zXT6cMquSq_P"
      },
      "source": [
        "'Append' is essentially to concat two DataFrames by axis = 0, thus here is an alternative way to append:"
      ]
    },
    {
      "cell_type": "code",
      "metadata": {
        "colab": {
          "base_uri": "https://localhost:8080/"
        },
        "id": "2EuSaFO9HW-D",
        "outputId": "d13ab43f-f41d-4eac-cef0-c8bdc1a3e65b"
      },
      "source": [
        "concat = pd.concat([aapl_bar, df_2021], axis = 0)#Also appends one dataframe to other but seen as a concatenation\n",
        "print(concat)"
      ],
      "execution_count": null,
      "outputs": [
        {
          "output_type": "stream",
          "name": "stdout",
          "text": [
            "                  Open        High         Low       Close  rate_return\n",
            "Date                                                                   \n",
            "2021-01-31  135.194777  136.100525  129.601064  131.342880          NaN\n",
            "2021-02-28  122.199036  124.451831  120.813470  120.873283    -0.079712\n",
            "2021-03-31  121.262039  123.126071  120.763634  121.760445     0.007340\n",
            "2021-04-30  131.359728  133.134050  130.652001  131.040756     0.076218\n",
            "2021-05-31  125.382147  125.611806  124.363676  124.423584    -0.050497\n",
            "2021-06-30  135.966285  137.204435  135.666731  136.755112     0.099109\n",
            "2021-07-31  144.164003  146.111083  143.894403  145.641785     0.064982\n",
            "2021-08-31  152.660004  152.800003  151.289993  151.830002     0.042489\n",
            "2021-09-30  143.660004  144.380005  141.279999  141.500000    -0.068037\n",
            "2021-10-31  147.220001  149.940002  146.410004  149.800003     0.058657\n",
            "2020-10-31  110.350244  111.274301  107.031593  108.164307          NaN\n",
            "2020-11-30  116.422996  120.404290  116.263741  118.493271          NaN\n",
            "2020-12-31  133.452972  134.109889  131.104008  132.069473          NaN\n",
            "2021-01-31  135.194777  136.100525  129.601064  131.342880          NaN\n",
            "2021-02-28  122.199036  124.451831  120.813470  120.873283          NaN\n",
            "2021-03-31  121.262039  123.126071  120.763634  121.760445          NaN\n",
            "2021-04-30  131.359728  133.134050  130.652001  131.040756          NaN\n"
          ]
        }
      ]
    },
    {
      "cell_type": "markdown",
      "metadata": {
        "id": "-YXL7V9ASst9"
      },
      "source": [
        "Please note that if the two DataFrame have some columns with the same column names, these columns are considered to be the same and will be merged. It's very important to have the right column names. If we change a column names here:"
      ]
    },
    {
      "cell_type": "code",
      "metadata": {
        "colab": {
          "base_uri": "https://localhost:8080/"
        },
        "id": "aT1eoa8mHW-D",
        "outputId": "b2741cdb-a3b2-47f5-c4a3-3c979e0736dc"
      },
      "source": [
        "df_2021.columns = ['Change', 'High','Low','Close']\n",
        "concat = pd.concat([aapl_bar, df_2017], axis = 0)#Merges by common columns\n",
        "print(concat)"
      ],
      "execution_count": null,
      "outputs": [
        {
          "output_type": "stream",
          "name": "stdout",
          "text": [
            "                  Open        High         Low       Close  rate_return\n",
            "Date                                                                   \n",
            "2021-01-31  135.194777  136.100525  129.601064  131.342880          NaN\n",
            "2021-02-28  122.199036  124.451831  120.813470  120.873283    -0.079712\n",
            "2021-03-31  121.262039  123.126071  120.763634  121.760445     0.007340\n",
            "2021-04-30  131.359728  133.134050  130.652001  131.040756     0.076218\n",
            "2021-05-31  125.382147  125.611806  124.363676  124.423584    -0.050497\n",
            "2021-06-30  135.966285  137.204435  135.666731  136.755112     0.099109\n",
            "2021-07-31  144.164003  146.111083  143.894403  145.641785     0.064982\n",
            "2021-08-31  152.660004  152.800003  151.289993  151.830002     0.042489\n",
            "2021-09-30  143.660004  144.380005  141.279999  141.500000    -0.068037\n",
            "2021-10-31  147.220001  149.940002  146.410004  149.800003     0.058657\n",
            "2020-10-31  110.350244  111.274301  107.031593  108.164307          NaN\n",
            "2020-11-30  116.422996  120.404290  116.263741  118.493271          NaN\n",
            "2020-12-31  133.452972  134.109889  131.104008  132.069473          NaN\n",
            "2021-01-31  135.194777  136.100525  129.601064  131.342880          NaN\n",
            "2021-02-28  122.199036  124.451831  120.813470  120.873283          NaN\n",
            "2021-03-31  121.262039  123.126071  120.763634  121.760445          NaN\n",
            "2021-04-30  131.359728  133.134050  130.652001  131.040756          NaN\n"
          ]
        }
      ]
    },
    {
      "cell_type": "markdown",
      "metadata": {
        "id": "shbpOFyyS6uV"
      },
      "source": [
        "Since the column name of 'Open' has been changed, the new DataFrame has an new column named 'Change'.\n",
        "\n",
        "# Summary\n",
        "\n",
        "Hereby we introduced the most import part of python: resampling and DataFrame manipulation. We only introduced the most commonly used method in Financial data analysis. There are also many methods used in data mining, which are also beneficial. You can always check the [Pandas](https://pandas.pydata.org/pandas-docs/stable/index.html) official documentations for help."
      ]
    }
  ]
}