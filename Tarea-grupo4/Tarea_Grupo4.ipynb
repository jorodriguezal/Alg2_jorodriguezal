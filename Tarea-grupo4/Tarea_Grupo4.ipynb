{
  "nbformat": 4,
  "nbformat_minor": 0,
  "metadata": {
    "colab": {
      "name": "Tarea-Grupo4.ipynb",
      "provenance": []
    },
    "kernelspec": {
      "name": "python3",
      "display_name": "Python 3"
    },
    "language_info": {
      "name": "python"
    }
  },
  "cells": [
    {
      "cell_type": "code",
      "metadata": {
        "colab": {
          "base_uri": "https://localhost:8080/"
        },
        "id": "zHVSrK2bLqW9",
        "outputId": "562707be-9cfd-4446-a819-f6d376033bae"
      },
      "source": [
        "# Python program to demonstrate searching operation\n",
        "# in binary search tree without recursion\n",
        "class newNode:\n",
        "\n",
        "\t# Constructor to create a new node\n",
        "    def __init__(self, data): #Método especial que inicializa la clase newNode\n",
        "\t    self.data = data #Valor del nodo\n",
        "\t    self.left = None #Hijo izquierdo\n",
        "\t    self.right = None #Hijo derecho\n",
        "\n",
        "    def __str__(self, level=0): #Método especial para cuando se llame a la clase como un string por medio de str() o print()\n",
        "        ret = \"\\t\"*level+repr(self.data)+\"\\n\" #se retorna el valor del nodo separado del inicio por cantidad de tabulaciones como de nivel tenga el nodo\n",
        "        if self.left != None: #Si hay hijo izquierdo\n",
        "            ret += (\"\\t\"*(level+1) + \"Izquierda \\n\")+self.left.__str__(level+1) #Realiza la misma función, agregándole antes la etiqueta indicando qué hijo es\n",
        "        \n",
        "        if self.right != None: #Lo mismo a la derecha\n",
        "            ret += (\"\\t\"*(level+1) + \"Derecha \\n\")+self.right.__str__(level+1)\n",
        "        return ret\n",
        "\n",
        "# Function to check the given\n",
        "# key exist or not\n",
        "def iterativeSearch(root, key):\n",
        "    ruta = \"\"\n",
        "    \n",
        "\t# Traverse until root reaches\n",
        "\t# to dead end\n",
        "    while root != None:\n",
        "\t\t\n",
        "\t\t# pass right subtree as new tree\n",
        "        if key > root.data:\n",
        "            ruta+='Derecha '\n",
        "            root = root.right\n",
        "            \n",
        "\n",
        "\t\t# pass left subtree as new tree\n",
        "        elif key < root.data:\n",
        "            ruta+=\"Izquierda \"\n",
        "            root = root.left\n",
        "            \n",
        "        else:\n",
        "            print(\"La ruta al valor buscado desde el origen es: \\n\"+ruta)\n",
        "            return True # if the key is found return 1\n",
        "    return False\n",
        "\n",
        "# A utility function to insert a\n",
        "# new Node with given key in BST\n",
        "def insert(Node, data):\n",
        "\t\n",
        "\t# If the tree is empty, return\n",
        "\t# a new Node\n",
        "\tif Node == None:\n",
        "\t\treturn newNode(data)\n",
        "\n",
        "\t# Otherwise, recur down the tree\n",
        "\tif data < Node.data:\n",
        "\t\tNode.left = insert(Node.left, data)\n",
        "\telif data > Node.data:\n",
        "\t\tNode.right = insert(Node.right, data)\n",
        "\n",
        "\t# return the (unchanged) Node pointer\n",
        "\treturn Node\n",
        "\n",
        "\n",
        "    \n",
        "\n",
        "    \n",
        "\n",
        "# Driver Code\n",
        "\n",
        "if __name__ == '__main__':\n",
        "     \n",
        "    # Let us create following BST\n",
        "    # 50\n",
        "    # 30     70\n",
        "    # / \\ / \\\n",
        "    # 20 40 60 80\n",
        "    root = None\n",
        "    raiz = int(input(\"Ingrese el valor raiz para la generación del arbol binario: \"))\n",
        "    root = insert(root, raiz)\n",
        "    n = int(input(\"Cantidad de nodos para la generación del arbol binario: \"))\n",
        "    for i in range(1, n+1):\n",
        "        insert(root, int(input(\"Ingrese el valor (\"+str(i)+\"): \")))\n",
        "    \n",
        "    if iterativeSearch(root, int(input(\"Diga cuál valor desea buscar en el arbol: \"))):\n",
        "        print(\"Yes\")\n",
        "    else:\n",
        "        print(\"Not\")\n",
        "    \n",
        "\t\n",
        "\n",
        "# This code is contributed by PranchalK\n"
      ],
      "execution_count": 2,
      "outputs": [
        {
          "output_type": "stream",
          "name": "stdout",
          "text": [
            "Ingrese el valor raiz para la generación del arbol binario: 10\n",
            "Cantidad de nodos para la generación del arbol binario: 15\n",
            "Ingrese el valor (1): 1\n",
            "Ingrese el valor (2): 0\n",
            "Ingrese el valor (3): 8\n",
            "Ingrese el valor (4): 7\n",
            "Ingrese el valor (5): 2\n",
            "Ingrese el valor (6): 9\n",
            "Ingrese el valor (7): 85\n",
            "Ingrese el valor (8): 20\n",
            "Ingrese el valor (9): 14\n",
            "Ingrese el valor (10): 36\n",
            "Ingrese el valor (11): 90\n",
            "Ingrese el valor (12): 55\n",
            "Ingrese el valor (13): 156\n",
            "Ingrese el valor (14): 1000\n",
            "Ingrese el valor (15): 86\n",
            "Diga cuál valor desea buscar en el arbol: 55\n",
            "La ruta al valor buscado desde el origen es: \n",
            "Derecha Izquierda Derecha Derecha \n",
            "Yes\n"
          ]
        }
      ]
    },
    {
      "cell_type": "code",
      "metadata": {
        "colab": {
          "base_uri": "https://localhost:8080/"
        },
        "id": "RCLuOctRdPuM",
        "outputId": "dc90c792-c2a3-4cd4-aa78-46328a2b821d"
      },
      "source": [
        "print(root) "
      ],
      "execution_count": 4,
      "outputs": [
        {
          "output_type": "stream",
          "name": "stdout",
          "text": [
            "10\n",
            "\tIzquierda \n",
            "\t1\n",
            "\t\tIzquierda \n",
            "\t\t0\n",
            "\t\tDerecha \n",
            "\t\t8\n",
            "\t\t\tIzquierda \n",
            "\t\t\t7\n",
            "\t\t\t\tIzquierda \n",
            "\t\t\t\t2\n",
            "\t\t\tDerecha \n",
            "\t\t\t9\n",
            "\tDerecha \n",
            "\t85\n",
            "\t\tIzquierda \n",
            "\t\t20\n",
            "\t\t\tIzquierda \n",
            "\t\t\t14\n",
            "\t\t\tDerecha \n",
            "\t\t\t36\n",
            "\t\t\t\tDerecha \n",
            "\t\t\t\t55\n",
            "\t\tDerecha \n",
            "\t\t90\n",
            "\t\t\tIzquierda \n",
            "\t\t\t86\n",
            "\t\t\tDerecha \n",
            "\t\t\t156\n",
            "\t\t\t\tDerecha \n",
            "\t\t\t\t1000\n",
            "\n"
          ]
        }
      ]
    }
  ]
}